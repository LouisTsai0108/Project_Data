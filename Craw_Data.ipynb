{
  "nbformat": 4,
  "nbformat_minor": 0,
  "metadata": {
    "colab": {
      "provenance": []
    },
    "kernelspec": {
      "name": "python3",
      "display_name": "Python 3"
    },
    "language_info": {
      "name": "python"
    }
  },
  "cells": [
    {
      "cell_type": "code",
      "source": [
        "!pip install feedparser #Đầu tiên ta cài đặt thư viện feedparser (feedparser là thư viện giúp lấy dữ liệu RSS để tóm lược thông tin từ 1 trang web)"
      ],
      "metadata": {
        "id": "pYvUfH2UhYr0"
      },
      "execution_count": null,
      "outputs": []
    },
    {
      "cell_type": "code",
      "source": [
        "import feedparser #Sau đó import thư viện feedparser\n",
        "dictionary = feedparser.parse('https://tuoitre.vn/rss/kinh-doanh.rss')\n",
        "#print(type(dictionary)) #Hàm parse trả về kiểu Dictionary (key:value)\n",
        "entries = dictionary.entries\n",
        "list_entries = list(entries)\n",
        "print(list_entries)\n",
        "#print(entries[0]) #Get keys"
      ],
      "metadata": {
        "id": "a52RzXoBhh16"
      },
      "execution_count": null,
      "outputs": []
    },
    {
      "cell_type": "code",
      "execution_count": null,
      "metadata": {
        "id": "5NfL6h4zguP2"
      },
      "outputs": [],
      "source": [
        "title,links,description = [],[],[]\n",
        "st = time.time()\n",
        "import pandas as pd\n",
        "import time\n",
        "entries = dictionary.entries\n",
        "list_entries = list(entries)\n",
        "\n",
        "def extract_title(list_entries): #list_entries: Input đầu vào\n",
        "  output = [] #Vùng nhớ mới để hứng kết quả\n",
        "  for x in range(len(list_entries)): #Ta duyệt qua từng phần tử trong list_entries\n",
        "       output.append(list_entries[x].title) #Lấy thẻ title nằm trong list_entries ra\n",
        "  return output #Trả ra kết quả\n",
        "\n",
        "def extract_links(list_entries):\n",
        "  output = []\n",
        "  for x in range(len(list_entries)):\n",
        "       output.append(list_entries[x].link)\n",
        "  return output\n",
        "\n",
        "def extract_description(list_entries):\n",
        "  output = []\n",
        "  for x in range(len(list_entries)):\n",
        "       summary = list_entries[x].summary\n",
        "       after_split = summary.split('</a>') #Làm sạch dữ liệu bằng cách tách thẻ </a> ra\n",
        "       output.append(after_split[-1])\n",
        "  return output"
      ]
    }
  ]
}