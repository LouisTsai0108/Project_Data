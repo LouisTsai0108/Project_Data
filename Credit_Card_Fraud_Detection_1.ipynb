{
  "cells": [
    {
      "cell_type": "markdown",
      "metadata": {
        "id": "E_U5w8vQRRF5"
      },
      "source": [
        "# 1. Code : Importing all the necessary Libraries."
      ]
    },
    {
      "cell_type": "code",
      "execution_count": null,
      "metadata": {
        "id": "7XiT8ChfRRF6"
      },
      "outputs": [],
      "source": [
        "# Import the necessary packages.\n",
        "import numpy as np\n",
        "import pandas as pd\n",
        "import matplotlib.pyplot as plt\n",
        "import seaborn as sns\n",
        "from matplotlib import gridspec"
      ]
    },
    {
      "cell_type": "markdown",
      "metadata": {
        "id": "wdYuOu5SRRF8"
      },
      "source": [
        "# 2. Code : Loading the Data."
      ]
    },
    {
      "cell_type": "code",
      "execution_count": null,
      "metadata": {
        "id": "Rwc0P2XqRRF8"
      },
      "outputs": [],
      "source": [
        "# Load the dataset from the csv file using pandas.\n",
        "# Best way is to mount the drive on colab and.\n",
        "# Copy the path for the csv file.\n",
        "data = pd.read_csv(\"/content/creditcard.csv\")"
      ]
    },
    {
      "cell_type": "code",
      "source": [
        "data.info()"
      ],
      "metadata": {
        "colab": {
          "base_uri": "https://localhost:8080/"
        },
        "id": "OcjR6e5De_3P",
        "outputId": "8f837539-3ffd-4580-ba7c-dd998ae223d6"
      },
      "execution_count": null,
      "outputs": [
        {
          "output_type": "stream",
          "name": "stdout",
          "text": [
            "<class 'pandas.core.frame.DataFrame'>\n",
            "RangeIndex: 284807 entries, 0 to 284806\n",
            "Data columns (total 31 columns):\n",
            " #   Column  Non-Null Count   Dtype  \n",
            "---  ------  --------------   -----  \n",
            " 0   Time    284807 non-null  float64\n",
            " 1   V1      284807 non-null  float64\n",
            " 2   V2      284807 non-null  float64\n",
            " 3   V3      284807 non-null  float64\n",
            " 4   V4      284807 non-null  float64\n",
            " 5   V5      284807 non-null  float64\n",
            " 6   V6      284807 non-null  float64\n",
            " 7   V7      284807 non-null  float64\n",
            " 8   V8      284807 non-null  float64\n",
            " 9   V9      284807 non-null  float64\n",
            " 10  V10     284807 non-null  float64\n",
            " 11  V11     284807 non-null  float64\n",
            " 12  V12     284807 non-null  float64\n",
            " 13  V13     284807 non-null  float64\n",
            " 14  V14     284807 non-null  float64\n",
            " 15  V15     284807 non-null  float64\n",
            " 16  V16     284807 non-null  float64\n",
            " 17  V17     284807 non-null  float64\n",
            " 18  V18     284807 non-null  float64\n",
            " 19  V19     284807 non-null  float64\n",
            " 20  V20     284807 non-null  float64\n",
            " 21  V21     284807 non-null  float64\n",
            " 22  V22     284807 non-null  float64\n",
            " 23  V23     284807 non-null  float64\n",
            " 24  V24     284807 non-null  float64\n",
            " 25  V25     284807 non-null  float64\n",
            " 26  V26     284807 non-null  float64\n",
            " 27  V27     284807 non-null  float64\n",
            " 28  V28     284807 non-null  float64\n",
            " 29  Amount  284807 non-null  float64\n",
            " 30  Class   284807 non-null  int64  \n",
            "dtypes: float64(30), int64(1)\n",
            "memory usage: 67.4 MB\n"
          ]
        }
      ]
    },
    {
      "cell_type": "code",
      "source": [
        "data.isnull().sum()"
      ],
      "metadata": {
        "colab": {
          "base_uri": "https://localhost:8080/"
        },
        "id": "-vXIVpfefCHE",
        "outputId": "4c65e4e5-b06f-40bd-bd35-69d4229cbe93"
      },
      "execution_count": null,
      "outputs": [
        {
          "output_type": "execute_result",
          "data": {
            "text/plain": [
              "Time      0\n",
              "V1        0\n",
              "V2        0\n",
              "V3        0\n",
              "V4        0\n",
              "V5        0\n",
              "V6        0\n",
              "V7        0\n",
              "V8        0\n",
              "V9        0\n",
              "V10       0\n",
              "V11       0\n",
              "V12       0\n",
              "V13       0\n",
              "V14       0\n",
              "V15       0\n",
              "V16       0\n",
              "V17       0\n",
              "V18       0\n",
              "V19       0\n",
              "V20       0\n",
              "V21       0\n",
              "V22       0\n",
              "V23       0\n",
              "V24       0\n",
              "V25       0\n",
              "V26       0\n",
              "V27       0\n",
              "V28       0\n",
              "Amount    0\n",
              "Class     0\n",
              "dtype: int64"
            ]
          },
          "metadata": {},
          "execution_count": 6
        }
      ]
    },
    {
      "cell_type": "markdown",
      "metadata": {
        "id": "dsv_onUzRRF8"
      },
      "source": [
        "# 3. Code : Understanding the Data."
      ]
    },
    {
      "cell_type": "markdown",
      "metadata": {
        "id": "tuED-0XORRF9"
      },
      "source": [
        "- Principal Component Analysis (PCA) is the most popular dimensionality reduction algorithm to date. It first determines the hyperplane located closest to the data, then projects the data points onto that hyperplane."
      ]
    },
    {
      "cell_type": "code",
      "execution_count": null,
      "metadata": {
        "colab": {
          "base_uri": "https://localhost:8080/",
          "height": 255
        },
        "id": "JbtlB0BWRRF9",
        "outputId": "b313f552-8185-402b-98dd-f170f92b5099"
      },
      "outputs": [
        {
          "output_type": "execute_result",
          "data": {
            "text/plain": [
              "   Time        V1        V2        V3        V4        V5        V6        V7  \\\n",
              "0   0.0 -1.359807 -0.072781  2.536347  1.378155 -0.338321  0.462388  0.239599   \n",
              "1   0.0  1.191857  0.266151  0.166480  0.448154  0.060018 -0.082361 -0.078803   \n",
              "2   1.0 -1.358354 -1.340163  1.773209  0.379780 -0.503198  1.800499  0.791461   \n",
              "3   1.0 -0.966272 -0.185226  1.792993 -0.863291 -0.010309  1.247203  0.237609   \n",
              "4   2.0 -1.158233  0.877737  1.548718  0.403034 -0.407193  0.095921  0.592941   \n",
              "\n",
              "         V8        V9  ...       V21       V22       V23       V24       V25  \\\n",
              "0  0.098698  0.363787  ... -0.018307  0.277838 -0.110474  0.066928  0.128539   \n",
              "1  0.085102 -0.255425  ... -0.225775 -0.638672  0.101288 -0.339846  0.167170   \n",
              "2  0.247676 -1.514654  ...  0.247998  0.771679  0.909412 -0.689281 -0.327642   \n",
              "3  0.377436 -1.387024  ... -0.108300  0.005274 -0.190321 -1.175575  0.647376   \n",
              "4 -0.270533  0.817739  ... -0.009431  0.798278 -0.137458  0.141267 -0.206010   \n",
              "\n",
              "        V26       V27       V28  Amount  Class  \n",
              "0 -0.189115  0.133558 -0.021053  149.62    0.0  \n",
              "1  0.125895 -0.008983  0.014724    2.69    0.0  \n",
              "2 -0.139097 -0.055353 -0.059752  378.66    0.0  \n",
              "3 -0.221929  0.062723  0.061458  123.50    0.0  \n",
              "4  0.502292  0.219422  0.215153   69.99    0.0  \n",
              "\n",
              "[5 rows x 31 columns]"
            ],
            "text/html": [
              "\n",
              "  <div id=\"df-487f1fb6-78a5-4f29-9d07-dfc71e00fe4c\" class=\"colab-df-container\">\n",
              "    <div>\n",
              "<style scoped>\n",
              "    .dataframe tbody tr th:only-of-type {\n",
              "        vertical-align: middle;\n",
              "    }\n",
              "\n",
              "    .dataframe tbody tr th {\n",
              "        vertical-align: top;\n",
              "    }\n",
              "\n",
              "    .dataframe thead th {\n",
              "        text-align: right;\n",
              "    }\n",
              "</style>\n",
              "<table border=\"1\" class=\"dataframe\">\n",
              "  <thead>\n",
              "    <tr style=\"text-align: right;\">\n",
              "      <th></th>\n",
              "      <th>Time</th>\n",
              "      <th>V1</th>\n",
              "      <th>V2</th>\n",
              "      <th>V3</th>\n",
              "      <th>V4</th>\n",
              "      <th>V5</th>\n",
              "      <th>V6</th>\n",
              "      <th>V7</th>\n",
              "      <th>V8</th>\n",
              "      <th>V9</th>\n",
              "      <th>...</th>\n",
              "      <th>V21</th>\n",
              "      <th>V22</th>\n",
              "      <th>V23</th>\n",
              "      <th>V24</th>\n",
              "      <th>V25</th>\n",
              "      <th>V26</th>\n",
              "      <th>V27</th>\n",
              "      <th>V28</th>\n",
              "      <th>Amount</th>\n",
              "      <th>Class</th>\n",
              "    </tr>\n",
              "  </thead>\n",
              "  <tbody>\n",
              "    <tr>\n",
              "      <th>0</th>\n",
              "      <td>0.0</td>\n",
              "      <td>-1.359807</td>\n",
              "      <td>-0.072781</td>\n",
              "      <td>2.536347</td>\n",
              "      <td>1.378155</td>\n",
              "      <td>-0.338321</td>\n",
              "      <td>0.462388</td>\n",
              "      <td>0.239599</td>\n",
              "      <td>0.098698</td>\n",
              "      <td>0.363787</td>\n",
              "      <td>...</td>\n",
              "      <td>-0.018307</td>\n",
              "      <td>0.277838</td>\n",
              "      <td>-0.110474</td>\n",
              "      <td>0.066928</td>\n",
              "      <td>0.128539</td>\n",
              "      <td>-0.189115</td>\n",
              "      <td>0.133558</td>\n",
              "      <td>-0.021053</td>\n",
              "      <td>149.62</td>\n",
              "      <td>0.0</td>\n",
              "    </tr>\n",
              "    <tr>\n",
              "      <th>1</th>\n",
              "      <td>0.0</td>\n",
              "      <td>1.191857</td>\n",
              "      <td>0.266151</td>\n",
              "      <td>0.166480</td>\n",
              "      <td>0.448154</td>\n",
              "      <td>0.060018</td>\n",
              "      <td>-0.082361</td>\n",
              "      <td>-0.078803</td>\n",
              "      <td>0.085102</td>\n",
              "      <td>-0.255425</td>\n",
              "      <td>...</td>\n",
              "      <td>-0.225775</td>\n",
              "      <td>-0.638672</td>\n",
              "      <td>0.101288</td>\n",
              "      <td>-0.339846</td>\n",
              "      <td>0.167170</td>\n",
              "      <td>0.125895</td>\n",
              "      <td>-0.008983</td>\n",
              "      <td>0.014724</td>\n",
              "      <td>2.69</td>\n",
              "      <td>0.0</td>\n",
              "    </tr>\n",
              "    <tr>\n",
              "      <th>2</th>\n",
              "      <td>1.0</td>\n",
              "      <td>-1.358354</td>\n",
              "      <td>-1.340163</td>\n",
              "      <td>1.773209</td>\n",
              "      <td>0.379780</td>\n",
              "      <td>-0.503198</td>\n",
              "      <td>1.800499</td>\n",
              "      <td>0.791461</td>\n",
              "      <td>0.247676</td>\n",
              "      <td>-1.514654</td>\n",
              "      <td>...</td>\n",
              "      <td>0.247998</td>\n",
              "      <td>0.771679</td>\n",
              "      <td>0.909412</td>\n",
              "      <td>-0.689281</td>\n",
              "      <td>-0.327642</td>\n",
              "      <td>-0.139097</td>\n",
              "      <td>-0.055353</td>\n",
              "      <td>-0.059752</td>\n",
              "      <td>378.66</td>\n",
              "      <td>0.0</td>\n",
              "    </tr>\n",
              "    <tr>\n",
              "      <th>3</th>\n",
              "      <td>1.0</td>\n",
              "      <td>-0.966272</td>\n",
              "      <td>-0.185226</td>\n",
              "      <td>1.792993</td>\n",
              "      <td>-0.863291</td>\n",
              "      <td>-0.010309</td>\n",
              "      <td>1.247203</td>\n",
              "      <td>0.237609</td>\n",
              "      <td>0.377436</td>\n",
              "      <td>-1.387024</td>\n",
              "      <td>...</td>\n",
              "      <td>-0.108300</td>\n",
              "      <td>0.005274</td>\n",
              "      <td>-0.190321</td>\n",
              "      <td>-1.175575</td>\n",
              "      <td>0.647376</td>\n",
              "      <td>-0.221929</td>\n",
              "      <td>0.062723</td>\n",
              "      <td>0.061458</td>\n",
              "      <td>123.50</td>\n",
              "      <td>0.0</td>\n",
              "    </tr>\n",
              "    <tr>\n",
              "      <th>4</th>\n",
              "      <td>2.0</td>\n",
              "      <td>-1.158233</td>\n",
              "      <td>0.877737</td>\n",
              "      <td>1.548718</td>\n",
              "      <td>0.403034</td>\n",
              "      <td>-0.407193</td>\n",
              "      <td>0.095921</td>\n",
              "      <td>0.592941</td>\n",
              "      <td>-0.270533</td>\n",
              "      <td>0.817739</td>\n",
              "      <td>...</td>\n",
              "      <td>-0.009431</td>\n",
              "      <td>0.798278</td>\n",
              "      <td>-0.137458</td>\n",
              "      <td>0.141267</td>\n",
              "      <td>-0.206010</td>\n",
              "      <td>0.502292</td>\n",
              "      <td>0.219422</td>\n",
              "      <td>0.215153</td>\n",
              "      <td>69.99</td>\n",
              "      <td>0.0</td>\n",
              "    </tr>\n",
              "  </tbody>\n",
              "</table>\n",
              "<p>5 rows × 31 columns</p>\n",
              "</div>\n",
              "    <div class=\"colab-df-buttons\">\n",
              "\n",
              "  <div class=\"colab-df-container\">\n",
              "    <button class=\"colab-df-convert\" onclick=\"convertToInteractive('df-487f1fb6-78a5-4f29-9d07-dfc71e00fe4c')\"\n",
              "            title=\"Convert this dataframe to an interactive table.\"\n",
              "            style=\"display:none;\">\n",
              "\n",
              "  <svg xmlns=\"http://www.w3.org/2000/svg\" height=\"24px\" viewBox=\"0 -960 960 960\">\n",
              "    <path d=\"M120-120v-720h720v720H120Zm60-500h600v-160H180v160Zm220 220h160v-160H400v160Zm0 220h160v-160H400v160ZM180-400h160v-160H180v160Zm440 0h160v-160H620v160ZM180-180h160v-160H180v160Zm440 0h160v-160H620v160Z\"/>\n",
              "  </svg>\n",
              "    </button>\n",
              "\n",
              "  <style>\n",
              "    .colab-df-container {\n",
              "      display:flex;\n",
              "      gap: 12px;\n",
              "    }\n",
              "\n",
              "    .colab-df-convert {\n",
              "      background-color: #E8F0FE;\n",
              "      border: none;\n",
              "      border-radius: 50%;\n",
              "      cursor: pointer;\n",
              "      display: none;\n",
              "      fill: #1967D2;\n",
              "      height: 32px;\n",
              "      padding: 0 0 0 0;\n",
              "      width: 32px;\n",
              "    }\n",
              "\n",
              "    .colab-df-convert:hover {\n",
              "      background-color: #E2EBFA;\n",
              "      box-shadow: 0px 1px 2px rgba(60, 64, 67, 0.3), 0px 1px 3px 1px rgba(60, 64, 67, 0.15);\n",
              "      fill: #174EA6;\n",
              "    }\n",
              "\n",
              "    .colab-df-buttons div {\n",
              "      margin-bottom: 4px;\n",
              "    }\n",
              "\n",
              "    [theme=dark] .colab-df-convert {\n",
              "      background-color: #3B4455;\n",
              "      fill: #D2E3FC;\n",
              "    }\n",
              "\n",
              "    [theme=dark] .colab-df-convert:hover {\n",
              "      background-color: #434B5C;\n",
              "      box-shadow: 0px 1px 3px 1px rgba(0, 0, 0, 0.15);\n",
              "      filter: drop-shadow(0px 1px 2px rgba(0, 0, 0, 0.3));\n",
              "      fill: #FFFFFF;\n",
              "    }\n",
              "  </style>\n",
              "\n",
              "    <script>\n",
              "      const buttonEl =\n",
              "        document.querySelector('#df-487f1fb6-78a5-4f29-9d07-dfc71e00fe4c button.colab-df-convert');\n",
              "      buttonEl.style.display =\n",
              "        google.colab.kernel.accessAllowed ? 'block' : 'none';\n",
              "\n",
              "      async function convertToInteractive(key) {\n",
              "        const element = document.querySelector('#df-487f1fb6-78a5-4f29-9d07-dfc71e00fe4c');\n",
              "        const dataTable =\n",
              "          await google.colab.kernel.invokeFunction('convertToInteractive',\n",
              "                                                    [key], {});\n",
              "        if (!dataTable) return;\n",
              "\n",
              "        const docLinkHtml = 'Like what you see? Visit the ' +\n",
              "          '<a target=\"_blank\" href=https://colab.research.google.com/notebooks/data_table.ipynb>data table notebook</a>'\n",
              "          + ' to learn more about interactive tables.';\n",
              "        element.innerHTML = '';\n",
              "        dataTable['output_type'] = 'display_data';\n",
              "        await google.colab.output.renderOutput(dataTable, element);\n",
              "        const docLink = document.createElement('div');\n",
              "        docLink.innerHTML = docLinkHtml;\n",
              "        element.appendChild(docLink);\n",
              "      }\n",
              "    </script>\n",
              "  </div>\n",
              "\n",
              "\n",
              "<div id=\"df-1bdc19be-26a8-4216-bcab-eceed4ae4af6\">\n",
              "  <button class=\"colab-df-quickchart\" onclick=\"quickchart('df-1bdc19be-26a8-4216-bcab-eceed4ae4af6')\"\n",
              "            title=\"Suggest charts\"\n",
              "            style=\"display:none;\">\n",
              "\n",
              "<svg xmlns=\"http://www.w3.org/2000/svg\" height=\"24px\"viewBox=\"0 0 24 24\"\n",
              "     width=\"24px\">\n",
              "    <g>\n",
              "        <path d=\"M19 3H5c-1.1 0-2 .9-2 2v14c0 1.1.9 2 2 2h14c1.1 0 2-.9 2-2V5c0-1.1-.9-2-2-2zM9 17H7v-7h2v7zm4 0h-2V7h2v10zm4 0h-2v-4h2v4z\"/>\n",
              "    </g>\n",
              "</svg>\n",
              "  </button>\n",
              "\n",
              "<style>\n",
              "  .colab-df-quickchart {\n",
              "      --bg-color: #E8F0FE;\n",
              "      --fill-color: #1967D2;\n",
              "      --hover-bg-color: #E2EBFA;\n",
              "      --hover-fill-color: #174EA6;\n",
              "      --disabled-fill-color: #AAA;\n",
              "      --disabled-bg-color: #DDD;\n",
              "  }\n",
              "\n",
              "  [theme=dark] .colab-df-quickchart {\n",
              "      --bg-color: #3B4455;\n",
              "      --fill-color: #D2E3FC;\n",
              "      --hover-bg-color: #434B5C;\n",
              "      --hover-fill-color: #FFFFFF;\n",
              "      --disabled-bg-color: #3B4455;\n",
              "      --disabled-fill-color: #666;\n",
              "  }\n",
              "\n",
              "  .colab-df-quickchart {\n",
              "    background-color: var(--bg-color);\n",
              "    border: none;\n",
              "    border-radius: 50%;\n",
              "    cursor: pointer;\n",
              "    display: none;\n",
              "    fill: var(--fill-color);\n",
              "    height: 32px;\n",
              "    padding: 0;\n",
              "    width: 32px;\n",
              "  }\n",
              "\n",
              "  .colab-df-quickchart:hover {\n",
              "    background-color: var(--hover-bg-color);\n",
              "    box-shadow: 0 1px 2px rgba(60, 64, 67, 0.3), 0 1px 3px 1px rgba(60, 64, 67, 0.15);\n",
              "    fill: var(--button-hover-fill-color);\n",
              "  }\n",
              "\n",
              "  .colab-df-quickchart-complete:disabled,\n",
              "  .colab-df-quickchart-complete:disabled:hover {\n",
              "    background-color: var(--disabled-bg-color);\n",
              "    fill: var(--disabled-fill-color);\n",
              "    box-shadow: none;\n",
              "  }\n",
              "\n",
              "  .colab-df-spinner {\n",
              "    border: 2px solid var(--fill-color);\n",
              "    border-color: transparent;\n",
              "    border-bottom-color: var(--fill-color);\n",
              "    animation:\n",
              "      spin 1s steps(1) infinite;\n",
              "  }\n",
              "\n",
              "  @keyframes spin {\n",
              "    0% {\n",
              "      border-color: transparent;\n",
              "      border-bottom-color: var(--fill-color);\n",
              "      border-left-color: var(--fill-color);\n",
              "    }\n",
              "    20% {\n",
              "      border-color: transparent;\n",
              "      border-left-color: var(--fill-color);\n",
              "      border-top-color: var(--fill-color);\n",
              "    }\n",
              "    30% {\n",
              "      border-color: transparent;\n",
              "      border-left-color: var(--fill-color);\n",
              "      border-top-color: var(--fill-color);\n",
              "      border-right-color: var(--fill-color);\n",
              "    }\n",
              "    40% {\n",
              "      border-color: transparent;\n",
              "      border-right-color: var(--fill-color);\n",
              "      border-top-color: var(--fill-color);\n",
              "    }\n",
              "    60% {\n",
              "      border-color: transparent;\n",
              "      border-right-color: var(--fill-color);\n",
              "    }\n",
              "    80% {\n",
              "      border-color: transparent;\n",
              "      border-right-color: var(--fill-color);\n",
              "      border-bottom-color: var(--fill-color);\n",
              "    }\n",
              "    90% {\n",
              "      border-color: transparent;\n",
              "      border-bottom-color: var(--fill-color);\n",
              "    }\n",
              "  }\n",
              "</style>\n",
              "\n",
              "  <script>\n",
              "    async function quickchart(key) {\n",
              "      const quickchartButtonEl =\n",
              "        document.querySelector('#' + key + ' button');\n",
              "      quickchartButtonEl.disabled = true;  // To prevent multiple clicks.\n",
              "      quickchartButtonEl.classList.add('colab-df-spinner');\n",
              "      try {\n",
              "        const charts = await google.colab.kernel.invokeFunction(\n",
              "            'suggestCharts', [key], {});\n",
              "      } catch (error) {\n",
              "        console.error('Error during call to suggestCharts:', error);\n",
              "      }\n",
              "      quickchartButtonEl.classList.remove('colab-df-spinner');\n",
              "      quickchartButtonEl.classList.add('colab-df-quickchart-complete');\n",
              "    }\n",
              "    (() => {\n",
              "      let quickchartButtonEl =\n",
              "        document.querySelector('#df-1bdc19be-26a8-4216-bcab-eceed4ae4af6 button');\n",
              "      quickchartButtonEl.style.display =\n",
              "        google.colab.kernel.accessAllowed ? 'block' : 'none';\n",
              "    })();\n",
              "  </script>\n",
              "</div>\n",
              "\n",
              "    </div>\n",
              "  </div>\n"
            ],
            "application/vnd.google.colaboratory.intrinsic+json": {
              "type": "dataframe",
              "variable_name": "data"
            }
          },
          "metadata": {},
          "execution_count": 3
        }
      ],
      "source": [
        "# Grab a peek at the data.\n",
        "data.head()"
      ]
    },
    {
      "cell_type": "markdown",
      "metadata": {
        "id": "lxzvSq5vRRF-"
      },
      "source": [
        "# 4. Code : Describing the Data."
      ]
    },
    {
      "cell_type": "code",
      "execution_count": null,
      "metadata": {
        "id": "Syh18IKBRRF-",
        "colab": {
          "base_uri": "https://localhost:8080/"
        },
        "outputId": "906a5ae3-745a-499f-8e33-ed9227f99753"
      },
      "outputs": [
        {
          "output_type": "stream",
          "name": "stdout",
          "text": [
            "(284807, 31)\n",
            "                Time            V1            V2            V3            V4  \\\n",
            "count  284807.000000  2.848070e+05  2.848070e+05  2.848070e+05  2.848070e+05   \n",
            "mean    94813.859575  1.168375e-15  3.416908e-16 -1.379537e-15  2.074095e-15   \n",
            "std     47488.145955  1.958696e+00  1.651309e+00  1.516255e+00  1.415869e+00   \n",
            "min         0.000000 -5.640751e+01 -7.271573e+01 -4.832559e+01 -5.683171e+00   \n",
            "25%     54201.500000 -9.203734e-01 -5.985499e-01 -8.903648e-01 -8.486401e-01   \n",
            "50%     84692.000000  1.810880e-02  6.548556e-02  1.798463e-01 -1.984653e-02   \n",
            "75%    139320.500000  1.315642e+00  8.037239e-01  1.027196e+00  7.433413e-01   \n",
            "max    172792.000000  2.454930e+00  2.205773e+01  9.382558e+00  1.687534e+01   \n",
            "\n",
            "                 V5            V6            V7            V8            V9  \\\n",
            "count  2.848070e+05  2.848070e+05  2.848070e+05  2.848070e+05  2.848070e+05   \n",
            "mean   9.604066e-16  1.487313e-15 -5.556467e-16  1.213481e-16 -2.406331e-15   \n",
            "std    1.380247e+00  1.332271e+00  1.237094e+00  1.194353e+00  1.098632e+00   \n",
            "min   -1.137433e+02 -2.616051e+01 -4.355724e+01 -7.321672e+01 -1.343407e+01   \n",
            "25%   -6.915971e-01 -7.682956e-01 -5.540759e-01 -2.086297e-01 -6.430976e-01   \n",
            "50%   -5.433583e-02 -2.741871e-01  4.010308e-02  2.235804e-02 -5.142873e-02   \n",
            "75%    6.119264e-01  3.985649e-01  5.704361e-01  3.273459e-01  5.971390e-01   \n",
            "max    3.480167e+01  7.330163e+01  1.205895e+02  2.000721e+01  1.559499e+01   \n",
            "\n",
            "       ...           V21           V22           V23           V24  \\\n",
            "count  ...  2.848070e+05  2.848070e+05  2.848070e+05  2.848070e+05   \n",
            "mean   ...  1.654067e-16 -3.568593e-16  2.578648e-16  4.473266e-15   \n",
            "std    ...  7.345240e-01  7.257016e-01  6.244603e-01  6.056471e-01   \n",
            "min    ... -3.483038e+01 -1.093314e+01 -4.480774e+01 -2.836627e+00   \n",
            "25%    ... -2.283949e-01 -5.423504e-01 -1.618463e-01 -3.545861e-01   \n",
            "50%    ... -2.945017e-02  6.781943e-03 -1.119293e-02  4.097606e-02   \n",
            "75%    ...  1.863772e-01  5.285536e-01  1.476421e-01  4.395266e-01   \n",
            "max    ...  2.720284e+01  1.050309e+01  2.252841e+01  4.584549e+00   \n",
            "\n",
            "                V25           V26           V27           V28         Amount  \\\n",
            "count  2.848070e+05  2.848070e+05  2.848070e+05  2.848070e+05  284807.000000   \n",
            "mean   5.340915e-16  1.683437e-15 -3.660091e-16 -1.227390e-16      88.349619   \n",
            "std    5.212781e-01  4.822270e-01  4.036325e-01  3.300833e-01     250.120109   \n",
            "min   -1.029540e+01 -2.604551e+00 -2.256568e+01 -1.543008e+01       0.000000   \n",
            "25%   -3.171451e-01 -3.269839e-01 -7.083953e-02 -5.295979e-02       5.600000   \n",
            "50%    1.659350e-02 -5.213911e-02  1.342146e-03  1.124383e-02      22.000000   \n",
            "75%    3.507156e-01  2.409522e-01  9.104512e-02  7.827995e-02      77.165000   \n",
            "max    7.519589e+00  3.517346e+00  3.161220e+01  3.384781e+01   25691.160000   \n",
            "\n",
            "               Class  \n",
            "count  284807.000000  \n",
            "mean        0.001727  \n",
            "std         0.041527  \n",
            "min         0.000000  \n",
            "25%         0.000000  \n",
            "50%         0.000000  \n",
            "75%         0.000000  \n",
            "max         1.000000  \n",
            "\n",
            "[8 rows x 31 columns]\n"
          ]
        }
      ],
      "source": [
        "# Print the shape of the data.\n",
        "print(data.shape)\n",
        "print(data.describe())"
      ]
    },
    {
      "cell_type": "markdown",
      "metadata": {
        "id": "2LeIKfPoRRF-"
      },
      "source": [
        "# 5. Code : Imbalance in the data."
      ]
    },
    {
      "cell_type": "markdown",
      "source": [
        "## 5.1. Visualize data."
      ],
      "metadata": {
        "id": "4aGq2qipQtQi"
      }
    },
    {
      "cell_type": "code",
      "source": [
        "# Create the Group column based on the Class column so as not to affect model training.\n",
        "data['Group'] = data['Class']\n",
        "data['Group']"
      ],
      "metadata": {
        "colab": {
          "base_uri": "https://localhost:8080/"
        },
        "id": "kqY5HiL2YWAb",
        "outputId": "cb8194c8-e666-427e-8615-0e82842662af"
      },
      "execution_count": null,
      "outputs": [
        {
          "output_type": "execute_result",
          "data": {
            "text/plain": [
              "0         0.0\n",
              "1         0.0\n",
              "2         0.0\n",
              "3         0.0\n",
              "4         0.0\n",
              "         ... \n",
              "239668    0.0\n",
              "239669    0.0\n",
              "239670    0.0\n",
              "239671    0.0\n",
              "239672    NaN\n",
              "Name: Group, Length: 239673, dtype: float64"
            ]
          },
          "metadata": {},
          "execution_count": 4
        }
      ]
    },
    {
      "cell_type": "code",
      "source": [
        "for i in range(len(data)):\n",
        "    if data['Group'].iloc[i] == 1:\n",
        "        data['Group'].iloc[i] = 'fraud'\n",
        "    else:\n",
        "        data['Group'].iloc[i] = 'normal'"
      ],
      "metadata": {
        "id": "OwwB7_H-R5wY"
      },
      "execution_count": null,
      "outputs": []
    },
    {
      "cell_type": "code",
      "source": [
        "freq = data.groupby(['Group'])['Group'].count()\n",
        "freq"
      ],
      "metadata": {
        "colab": {
          "base_uri": "https://localhost:8080/"
        },
        "id": "eTvoMsO7SI2h",
        "outputId": "b69fda3c-2a16-4b8e-8522-7c3d6293eff2"
      },
      "execution_count": null,
      "outputs": [
        {
          "output_type": "execute_result",
          "data": {
            "text/plain": [
              "Group\n",
              "fraud        437\n",
              "normal    239236\n",
              "Name: Group, dtype: int64"
            ]
          },
          "metadata": {},
          "execution_count": 6
        }
      ]
    },
    {
      "cell_type": "code",
      "source": [
        "# Use a different colour palette in count plot.\n",
        "sns.countplot(data = data, x ='Group', hue=\"Group\", stat=\"count\", palette = \"Set2\")"
      ],
      "metadata": {
        "colab": {
          "base_uri": "https://localhost:8080/",
          "height": 470
        },
        "id": "8M0SkMQmSLUh",
        "outputId": "d868ac2b-edd1-49ff-fa26-08fdb00196a1"
      },
      "execution_count": null,
      "outputs": [
        {
          "output_type": "execute_result",
          "data": {
            "text/plain": [
              "<Axes: xlabel='Group', ylabel='count'>"
            ]
          },
          "metadata": {},
          "execution_count": 7
        },
        {
          "output_type": "display_data",
          "data": {
            "text/plain": [
              "<Figure size 640x480 with 1 Axes>"
            ],
            "image/png": "[encoded data removed]"
          },
          "metadata": {}
        }
      ]
    },
    {
      "cell_type": "code",
      "source": [
        "import seaborn as sns\n",
        "import matplotlib.pyplot as plt\n",
        "\n",
        "def plot_percentage_countplot(data, x, hue):\n",
        "    total = float(len(data))\n",
        "\n",
        "    ax = sns.countplot(x=x, hue=hue, data=data, palette = \"Set2\", stat=\"count\")\n",
        "\n",
        "    for p in ax.patches:\n",
        "        height = p.get_height()\n",
        "        if height > 0:\n",
        "          ax.text(p.get_x() + p.get_width() / 2.,\n",
        "                    height / 2 + p.get_y(),\n",
        "                    '{:.2f}%'.format((height / total) * 100),\n",
        "                    ha=\"center\",\n",
        "                    color=\"white\")\n",
        "\n",
        "    plt.show()"
      ],
      "metadata": {
        "id": "_d6XILWjSb-F"
      },
      "execution_count": null,
      "outputs": []
    },
    {
      "cell_type": "code",
      "source": [
        "plot_percentage_countplot(data=data, x='Group', hue='Group')"
      ],
      "metadata": {
        "colab": {
          "base_uri": "https://localhost:8080/",
          "height": 453
        },
        "id": "7uOPFhmVSgmT",
        "outputId": "bda44501-da63-45b6-db59-532a2275cee3"
      },
      "execution_count": null,
      "outputs": [
        {
          "output_type": "display_data",
          "data": {
            "text/plain": [
              "<Figure size 640x480 with 1 Axes>"
            ],
            "image/png": "[encoded data removed]"
          },
          "metadata": {}
        }
      ]
    },
    {
      "cell_type": "markdown",
      "source": [
        "## 5.2. Imbalanced data."
      ],
      "metadata": {
        "id": "C-tOdNGxgmUB"
      }
    },
    {
      "cell_type": "markdown",
      "source": [
        "- The data is Imbalanced data (too skewed)."
      ],
      "metadata": {
        "id": "jumpb1FiStpD"
      }
    },
    {
      "cell_type": "code",
      "source": [
        "# Determine number of fraud cases in dataset.\n",
        "# 1 is Customer Fraud.\n",
        "# 0 is a Normal Customer.\n",
        "fraud = data[data['Class'] == 1]\n",
        "valid = data[data['Class'] == 0]\n",
        "total = data[data['Class'] == 1] + data[data['Class'] == 0]\n",
        "\n",
        "outlierFraction = len(fraud)/float(len(valid) + len(fraud))\n",
        "print(outlierFraction)\n",
        "print('Fraud Cases: {}'.format(len(data[data['Class'] == 1])))\n",
        "print('Valid Transactions: {}'.format(len(data[data['Class'] == 0])))\n",
        "print('Total Transactions: {}'.format(len(total)))"
      ],
      "metadata": {
        "colab": {
          "base_uri": "https://localhost:8080/"
        },
        "id": "eDjnMmqDX5xb",
        "outputId": "84a3b69d-2cf1-4673-d9dd-203ac9f873ce"
      },
      "execution_count": null,
      "outputs": [
        {
          "output_type": "stream",
          "name": "stdout",
          "text": [
            "0.0018233252111218665\n",
            "Fraud Cases: 437\n",
            "Valid Transactions: 239235\n",
            "Total Transactions: 239672\n"
          ]
        }
      ]
    },
    {
      "cell_type": "markdown",
      "metadata": {
        "id": "Q-DbGSKbRRF_"
      },
      "source": [
        "- Only 0.17% fraudulent transaction out all the transactions. The data is highly Unbalanced."
      ]
    },
    {
      "cell_type": "markdown",
      "source": [
        "### Xử lý chúng bằng Downsampling."
      ],
      "metadata": {
        "id": "zf7DkLlnh8OA"
      }
    },
    {
      "cell_type": "code",
      "source": [
        "# Downsampling to balance the dataset.\n",
        "normal_data = data[data.Class == 0]\n",
        "fraud_data = data[data.Class == 1]\n",
        "normal_data = normal_data.sample(n=len(fraud_data),random_state=42)\n",
        "\n",
        "# Concatenating the downsampled DataFrames.\n",
        "balanced_data = pd.concat([normal_data, fraud_data]).reset_index(drop=True)\n",
        "\n",
        "# Plotting the counts of down sampled dataset.\n",
        "plt.figure(figsize=(8, 6))\n",
        "sns.countplot(data=balanced_data, x='Class', palette = \"coolwarm\")\n",
        "plt.title('Distribution of Normal and Fraud transactions after downsampling')\n",
        "plt.xlabel('Classify types')"
      ],
      "metadata": {
        "colab": {
          "base_uri": "https://localhost:8080/",
          "height": 688
        },
        "id": "5hqEDe3JiBgn",
        "outputId": "520906ac-c01e-469f-acca-0030ff1f94b0"
      },
      "execution_count": null,
      "outputs": [
        {
          "output_type": "stream",
          "name": "stderr",
          "text": [
            "<ipython-input-74-1fb05b403d10>:13: FutureWarning: \n",
            "\n",
            "Passing `palette` without assigning `hue` is deprecated and will be removed in v0.14.0. Assign the `x` variable to `hue` and set `legend=False` for the same effect.\n",
            "\n",
            "  sns.countplot(data=balanced_data, x='Class', palette = \"coolwarm\")\n"
          ]
        },
        {
          "output_type": "execute_result",
          "data": {
            "text/plain": [
              "Text(0.5, 0, 'Classify types')"
            ]
          },
          "metadata": {},
          "execution_count": 74
        },
        {
          "output_type": "display_data",
          "data": {
            "text/plain": [
              "<Figure size 800x600 with 1 Axes>"
            ],
            "image/png": "[encoded data removed]"
          },
          "metadata": {}
        }
      ]
    },
    {
      "cell_type": "markdown",
      "metadata": {
        "id": "kSUUAYe3RRF_"
      },
      "source": [
        "# 6. Code : Print the amount details for Fraudulent Transaction."
      ]
    },
    {
      "cell_type": "code",
      "execution_count": null,
      "metadata": {
        "id": "lNCMcK-GRRF_",
        "colab": {
          "base_uri": "https://localhost:8080/"
        },
        "outputId": "32a1fe8a-ccac-436a-a657-bfb8944ac886"
      },
      "outputs": [
        {
          "output_type": "stream",
          "name": "stdout",
          "text": [
            "Amount    25\n",
            "dtype: int64\n"
          ]
        }
      ],
      "source": [
        "# Filter fraud cases where Amount is 0.00 and drop rows with NaN values\n",
        "filtered_data = data[(data['Class'] == 1) & (data['Amount'] == 0.00)]\n",
        "\n",
        "# Select only index and Amount column\n",
        "result = filtered_data[['Amount']].dropna()\n",
        "\n",
        "# Print the result\n",
        "# print(result)\n",
        "print(result.count())"
      ]
    },
    {
      "cell_type": "code",
      "execution_count": null,
      "metadata": {
        "id": "459r1RCERRGA",
        "colab": {
          "base_uri": "https://localhost:8080/"
        },
        "outputId": "f7d23003-15b5-4d64-c5ce-59bf84e70f46"
      },
      "outputs": [
        {
          "output_type": "stream",
          "name": "stdout",
          "text": [
            "            Time         V1         V2         V3         V4         V5  \\\n",
            "541        406.0  -2.312227   1.951992  -1.609851   3.997906  -0.522188   \n",
            "8842     12093.0  -4.696795   2.693867  -4.475133   5.467685  -1.556758   \n",
            "23308    32686.0   0.287953   1.728735  -1.652173   3.813544  -1.090927   \n",
            "42756    41233.0 -10.645800   5.918307 -11.671043   8.807369  -7.975501   \n",
            "69980    53658.0  -1.739341   1.344521  -0.534379   3.195291  -0.416196   \n",
            "93486    64443.0   1.079524   0.872988  -0.303850   2.755369   0.301688   \n",
            "93788    64585.0   1.080433   0.962831  -0.278065   2.743318   0.412364   \n",
            "141257   84204.0  -0.937843   3.462889  -6.445104   4.932199  -2.233983   \n",
            "141258   84204.0  -0.937843   3.462889  -6.445104   4.932199  -2.233983   \n",
            "143333   85285.0  -7.030308   3.421991  -9.525072   5.270891  -4.024630   \n",
            "143334   85285.0  -7.030308   3.421991  -9.525072   5.270891  -4.024630   \n",
            "154587  102114.0 -28.255053  21.467203 -26.871339  11.737436 -17.999630   \n",
            "154668  102480.0  -1.929597   4.066413  -4.865184   5.898602  -0.552493   \n",
            "154718  102669.0  -5.603690   5.222193  -7.516830   8.117724  -2.756858   \n",
            "154719  102671.0  -4.991758   5.213340  -9.111326   8.431986  -3.435516   \n",
            "156988  109297.0   0.745153   2.809299  -5.825406   5.835566   0.512320   \n",
            "183106  125658.0   0.224414   2.994499  -3.432458   3.986519   3.760233   \n",
            "191690  129371.0   1.183931   3.057250  -6.161997   5.543972   1.617041   \n",
            "201098  133731.0   1.176633   3.141918  -6.140445   5.521821   1.768515   \n",
            "203700  134928.0   1.204934   3.238070  -6.010324   5.720847   1.548400   \n",
            "222419  142961.0   0.457845   1.373769  -0.488926   2.805351   1.777386   \n",
            "226877  144839.0  -6.423306   1.658515  -5.866440   2.052064  -0.615817   \n",
            "234574  148028.0  -1.053840   4.362801  -6.023534   5.304534   1.480738   \n",
            "234705  148074.0  -2.219219   0.727831  -5.458230   5.924850   3.932464   \n",
            "237107  149096.0   1.184891   3.152084  -6.134780   5.531252   1.733867   \n",
            "\n",
            "              V6         V7         V8         V9  ...       V22       V23  \\\n",
            "541    -1.426545  -2.537387   1.391657  -2.770089  ... -0.035049 -0.465211   \n",
            "8842   -1.549420  -4.104215   0.553934  -1.498468  ... -0.080163  0.318408   \n",
            "23308  -0.984745  -2.202318   0.555088  -2.033892  ... -0.633528  0.092891   \n",
            "42756  -3.586806 -13.616797   6.428169  -7.368451  ...  0.206809 -1.667801   \n",
            "69980  -1.261961  -2.340991   0.713004  -1.416265  ... -0.213952 -0.336640   \n",
            "93486  -0.350284  -0.042848   0.246625  -0.779176  ... -0.158601 -0.038806   \n",
            "93788  -0.320778   0.041290   0.176170  -0.966952  ... -0.057036 -0.053692   \n",
            "141257 -2.291561  -5.695594   1.338825  -4.322377  ... -0.521657 -0.319917   \n",
            "141258 -2.291561  -5.695594   1.338825  -4.322377  ... -0.521657 -0.319917   \n",
            "143333 -2.865682  -6.989195   3.791551  -4.622730  ... -0.541855  0.036943   \n",
            "143334 -2.865682  -6.989195   3.791551  -4.622730  ... -0.541855  0.036943   \n",
            "154587  6.065901 -41.506796 -38.987263 -13.434066  ...  8.361985  4.909111   \n",
            "154668 -1.555962  -3.833623   0.679512  -3.463765  ...  0.674245 -0.531765   \n",
            "154718 -1.574565  -6.330343   2.998419  -4.508167  ...  0.428408 -0.101184   \n",
            "154719 -1.827565  -7.114303   3.431207  -3.875643  ...  0.247858  0.294448   \n",
            "156988 -0.615622  -2.916576   0.776710  -1.878832  ... -0.874383 -0.083995   \n",
            "183106  0.165640   1.099378  -0.654557  -2.435416  ... -0.984223 -0.421979   \n",
            "191690 -1.848006  -1.005508   0.339937  -2.959806  ... -0.931072 -0.064175   \n",
            "201098 -1.727186  -0.932429   0.292797  -3.156827  ... -0.803021 -0.074098   \n",
            "203700 -2.321064  -0.781880   0.076619  -2.976249  ... -0.845866 -0.031228   \n",
            "222419  0.100492   1.295016  -0.135857  -1.695822  ...  0.371014  0.051105   \n",
            "226877 -3.372266  -5.036556   2.643106  -2.274630  ... -0.256678 -2.337233   \n",
            "234574 -2.193821  -1.530817   0.626857  -4.037021  ... -0.945402 -0.376138   \n",
            "234705 -3.085984  -1.677870   0.865075  -3.177260  ... -0.817343 -0.028752   \n",
            "237107 -1.816861  -0.916696   0.265568  -3.158014  ... -0.823865 -0.079887   \n",
            "\n",
            "             V24       V25       V26       V27       V28  Amount  Class  Group  \n",
            "541     0.320198  0.044519  0.177840  0.261145 -0.143276     0.0    1.0  fraud  \n",
            "8842   -0.245862  0.338238  0.032271 -1.508458  0.608075     0.0    1.0  fraud  \n",
            "23308   0.187613  0.368708 -0.132474  0.576561  0.309843     0.0    1.0  fraud  \n",
            "42756   0.558419 -0.027898  0.354254  0.273329 -0.152908     0.0    1.0  fraud  \n",
            "69980   0.237076  0.246003 -0.044228  0.510729  0.220952     0.0    1.0  fraud  \n",
            "93486  -0.060327  0.358339  0.076984  0.018936  0.060574     0.0    1.0  fraud  \n",
            "93788  -0.026373  0.400300  0.072828  0.027043  0.063238     0.0    1.0  fraud  \n",
            "141257 -0.405859  0.906802  1.165784  1.374495  0.729889     0.0    1.0  fraud  \n",
            "141258 -0.405859  0.906802  1.165784  1.374495  0.729889     0.0    1.0  fraud  \n",
            "143333 -0.355519  0.353634  1.042458  1.359516 -0.272188     0.0    1.0  fraud  \n",
            "143334 -0.355519  0.353634  1.042458  1.359516 -0.272188     0.0    1.0  fraud  \n",
            "154587  0.098328 -1.508739  0.008711 -5.407824 -0.183811     0.0    1.0  fraud  \n",
            "154668 -0.433409  0.378659  0.198107  0.869694  0.228048     0.0    1.0  fraud  \n",
            "154718 -0.520199 -0.176938  0.461450 -0.106625 -0.479662     0.0    1.0  fraud  \n",
            "154719 -0.548504 -0.174617  0.406703 -0.402339 -0.882886     0.0    1.0  fraud  \n",
            "156988 -0.651442  0.454594  0.050376  0.756953  0.383869     0.0    1.0  fraud  \n",
            "183106 -1.048058  0.726412  0.268625  0.283689  0.419102     0.0    1.0  fraud  \n",
            "191690 -0.007013  0.345419  0.064558  0.476629  0.323740     0.0    1.0  fraud  \n",
            "201098 -0.031084  0.375366  0.065897  0.488258  0.325872     0.0    1.0  fraud  \n",
            "203700  0.421146  0.388361  0.056035  0.491828  0.340847     0.0    1.0  fraud  \n",
            "222419  0.401524 -0.724766 -0.202881  0.092124  0.094956     0.0    1.0  fraud  \n",
            "226877 -0.158278  1.198797 -0.261258  0.780125 -0.731801     0.0    1.0  fraud  \n",
            "234574 -0.220480  0.264003  0.048935  0.847220  0.531932     0.0    1.0  fraud  \n",
            "234705  0.025723 -0.825835 -0.013089  0.413291 -0.131387     0.0    1.0  fraud  \n",
            "237107  0.028828  0.389711  0.060171  0.485187  0.326552     0.0    1.0  fraud  \n",
            "\n",
            "[25 rows x 32 columns]\n"
          ]
        }
      ],
      "source": [
        "print(fraud.where(data['Amount'] == 0.00).dropna())"
      ]
    },
    {
      "cell_type": "code",
      "execution_count": null,
      "metadata": {
        "id": "_pXbRHmHRRGA",
        "colab": {
          "base_uri": "https://localhost:8080/"
        },
        "outputId": "72e20f3c-5a3c-4b39-dcca-951bd3870c77"
      },
      "outputs": [
        {
          "output_type": "stream",
          "name": "stdout",
          "text": [
            "Time      25\n",
            "V1        25\n",
            "V2        25\n",
            "V3        25\n",
            "V4        25\n",
            "V5        25\n",
            "V6        25\n",
            "V7        25\n",
            "V8        25\n",
            "V9        25\n",
            "V10       25\n",
            "V11       25\n",
            "V12       25\n",
            "V13       25\n",
            "V14       25\n",
            "V15       25\n",
            "V16       25\n",
            "V17       25\n",
            "V18       25\n",
            "V19       25\n",
            "V20       25\n",
            "V21       25\n",
            "V22       25\n",
            "V23       25\n",
            "V24       25\n",
            "V25       25\n",
            "V26       25\n",
            "V27       25\n",
            "V28       25\n",
            "Amount    25\n",
            "Class     25\n",
            "Group     25\n",
            "dtype: int64\n"
          ]
        }
      ],
      "source": [
        "print(fraud.where(data['Amount'] == 0.00).count())"
      ]
    },
    {
      "cell_type": "code",
      "execution_count": null,
      "metadata": {
        "id": "MHpJijr5RRGA",
        "colab": {
          "base_uri": "https://localhost:8080/"
        },
        "outputId": "69a51d4d-0c07-4748-db46-861233c53fcf"
      },
      "outputs": [
        {
          "output_type": "stream",
          "name": "stdout",
          "text": [
            "Amount details of the fraudulent transaction\n"
          ]
        },
        {
          "output_type": "execute_result",
          "data": {
            "text/plain": [
              "count     492.000000\n",
              "mean      122.211321\n",
              "std       256.683288\n",
              "min         0.000000\n",
              "25%         1.000000\n",
              "50%         9.250000\n",
              "75%       105.890000\n",
              "max      2125.870000\n",
              "Name: Amount, dtype: float64"
            ]
          },
          "metadata": {},
          "execution_count": 58
        }
      ],
      "source": [
        "print(\"Amount details of the fraudulent transaction\")\n",
        "fraud.Amount.describe()\n",
        "# Số tiền gian lận lớn nhất là 2125.87.\n",
        "# Số tiền gian lận nhỏ nhất là 0."
      ]
    },
    {
      "cell_type": "markdown",
      "metadata": {
        "id": "-nWhFRnZRRGA"
      },
      "source": [
        "- As we can clearly notice from this, the average Money transaction for the fraudulent ones is more. This makes this problem crucial to deal with."
      ]
    },
    {
      "cell_type": "markdown",
      "metadata": {
        "id": "242poCBBRRGA"
      },
      "source": [
        "# 7. Code : Plotting the Correlation Matrix."
      ]
    },
    {
      "cell_type": "code",
      "execution_count": null,
      "metadata": {
        "id": "nULPhOflRRGA",
        "colab": {
          "base_uri": "https://localhost:8080/",
          "height": 649
        },
        "outputId": "787bafbb-fb56-4a57-caa0-24e8b386616c"
      },
      "outputs": [
        {
          "output_type": "display_data",
          "data": {
            "text/plain": [
              "<Figure size 1200x900 with 2 Axes>"
            ],
            "image/png": "[encoded data removed]"
          },
          "metadata": {}
        }
      ],
      "source": [
        "# Correlation matrix.\n",
        "corrmat = data.corr()\n",
        "fig = plt.figure(figsize = (12, 9))\n",
        "sns.heatmap(corrmat, vmax = .8, square = True)\n",
        "plt.show()"
      ]
    },
    {
      "cell_type": "markdown",
      "metadata": {
        "id": "hGY8QlpQRRGA"
      },
      "source": [
        "- In HeatMap we can clearly see that most features are not correlated with other features but there are some features that are positively or negatively correlated with each other. For example, V2 and V5 have a very high negative correlation with the feature called Amount. We also see some correlation with V20 and Amount. This helps us gain a deeper understanding of the Data available to us."
      ]
    },
    {
      "cell_type": "markdown",
      "metadata": {
        "id": "hMoYPmyQRRGB"
      },
      "source": [
        "# 8. Code : Separating the X and the Y values."
      ]
    },
    {
      "cell_type": "markdown",
      "source": [
        "## 8.1. Before Downsampling."
      ],
      "metadata": {
        "id": "9idDiTxGkjww"
      }
    },
    {
      "cell_type": "code",
      "source": [
        "data.isnull().sum()"
      ],
      "metadata": {
        "colab": {
          "base_uri": "https://localhost:8080/"
        },
        "id": "454TvelPe0CW",
        "outputId": "a5a79aaa-148a-4c73-a835-454ced2a8226"
      },
      "execution_count": null,
      "outputs": [
        {
          "output_type": "execute_result",
          "data": {
            "text/plain": [
              "Time      0\n",
              "V1        0\n",
              "V2        0\n",
              "V3        0\n",
              "V4        0\n",
              "V5        0\n",
              "V6        0\n",
              "V7        0\n",
              "V8        0\n",
              "V9        0\n",
              "V10       0\n",
              "V11       0\n",
              "V12       0\n",
              "V13       0\n",
              "V14       0\n",
              "V15       0\n",
              "V16       0\n",
              "V17       0\n",
              "V18       1\n",
              "V19       1\n",
              "V20       1\n",
              "V21       1\n",
              "V22       1\n",
              "V23       1\n",
              "V24       1\n",
              "V25       1\n",
              "V26       1\n",
              "V27       1\n",
              "V28       1\n",
              "Amount    1\n",
              "Class     1\n",
              "Group     0\n",
              "dtype: int64"
            ]
          },
          "metadata": {},
          "execution_count": 32
        }
      ]
    },
    {
      "cell_type": "code",
      "source": [
        "data.dropna(inplace=True)"
      ],
      "metadata": {
        "id": "zHL5MfMKfM4z"
      },
      "execution_count": null,
      "outputs": []
    },
    {
      "cell_type": "code",
      "execution_count": null,
      "metadata": {
        "id": "rrSF0l1NRRGB",
        "colab": {
          "base_uri": "https://localhost:8080/"
        },
        "outputId": "c0a72083-439c-4fa0-9e9b-7b7ed376318d"
      },
      "outputs": [
        {
          "output_type": "stream",
          "name": "stdout",
          "text": [
            "(239672, 30)\n",
            "(239672,)\n"
          ]
        }
      ],
      "source": [
        "# Dividing the data into inputs parameters and outputs value format.\n",
        "# Dividing the X and the Y from the dataset.\n",
        "X = data.drop(['Class','Group'], axis = 1)\n",
        "Y = data[\"Class\"]\n",
        "print(X.shape)\n",
        "print(Y.shape)\n",
        "# Getting just the values for the sake of processing.\n",
        "# (Its a numpy array with no columns).\n",
        "xData = X.values\n",
        "yData = Y.values"
      ]
    },
    {
      "cell_type": "markdown",
      "source": [
        "## 8.2. After Downsampling."
      ],
      "metadata": {
        "id": "ljl5X7e-kggZ"
      }
    },
    {
      "cell_type": "code",
      "source": [
        "balanced_data"
      ],
      "metadata": {
        "colab": {
          "base_uri": "https://localhost:8080/",
          "height": 443
        },
        "id": "NrDW6PX7lLA1",
        "outputId": "61bc6b70-52cc-4694-8341-e022f6ecfcac"
      },
      "execution_count": null,
      "outputs": [
        {
          "output_type": "execute_result",
          "data": {
            "text/plain": [
              "         Time        V1        V2        V3        V4        V5        V6  \\\n",
              "0     82450.0  1.314539  0.590643 -0.666593  0.716564  0.301978 -1.125467   \n",
              "1     50554.0 -0.798672  1.185093  0.904547  0.694584  0.219041 -0.319295   \n",
              "2     55125.0 -0.391128 -0.245540  1.122074 -1.308725 -0.639891  0.008678   \n",
              "3    116572.0 -0.060302  1.065093 -0.987421 -0.029567  0.176376 -1.348539   \n",
              "4     90434.0  1.848433  0.373364  0.269272  3.866438  0.088062  0.970447   \n",
              "..        ...       ...       ...       ...       ...       ...       ...   \n",
              "979  169142.0 -1.927883  1.125653 -4.518331  1.749293 -1.566487 -2.010494   \n",
              "980  169347.0  1.378559  1.289381 -5.004247  1.411850  0.442581 -1.326536   \n",
              "981  169351.0 -0.676143  1.126366 -2.213700  0.468308 -1.120541 -0.003346   \n",
              "982  169966.0 -3.113832  0.585864 -5.399730  1.817092 -0.840618 -2.943548   \n",
              "983  170348.0  1.991976  0.158476 -2.583441  0.408670  1.151147 -0.096695   \n",
              "\n",
              "           V7        V8        V9  ...       V22       V23       V24  \\\n",
              "0    0.388881 -0.288390 -0.132137  ... -0.429655 -0.141341 -0.200195   \n",
              "1    0.495236  0.139269 -0.760214  ...  0.578699 -0.092245  0.013723   \n",
              "2   -0.701304 -0.027315 -2.628854  ...  0.117403 -0.191748 -0.488642   \n",
              "3    0.775644  0.134843 -0.149734  ...  0.907570 -0.018454 -0.126269   \n",
              "4   -0.721945  0.235983  0.683491  ...  0.620954  0.197077  0.692392   \n",
              "..        ...       ...       ...  ...       ...       ...       ...   \n",
              "979 -0.882850  0.697211 -2.064945  ... -0.319189  0.639419 -0.294885   \n",
              "980 -1.413170  0.248525 -1.127396  ...  0.028234 -0.145640 -0.081049   \n",
              "981 -2.234739  1.210158 -0.652250  ...  0.834108  0.190944  0.032070   \n",
              "982 -2.208002  1.058733 -1.632333  ... -0.269209 -0.456108 -0.183659   \n",
              "983  0.223050 -0.068384  0.577829  ... -0.295135 -0.072173 -0.450261   \n",
              "\n",
              "          V25       V26       V27       V28  Amount  Class   Group  \n",
              "0    0.639491  0.399476 -0.034321  0.031692    0.76      0  normal  \n",
              "1   -0.246466 -0.380057 -0.396030 -0.112901    4.18      0  normal  \n",
              "2   -0.309774  0.008100  0.163716  0.239582   15.00      0  normal  \n",
              "3   -0.339923 -0.150285 -0.023634  0.042330   57.00      0  normal  \n",
              "4   -0.206530 -0.021328 -0.019823 -0.042682    0.00      0  normal  \n",
              "..        ...       ...       ...       ...     ...    ...     ...  \n",
              "979  0.537503  0.788395  0.292680  0.147968  390.00      1   fraud  \n",
              "980  0.521875  0.739467  0.389152  0.186637    0.76      1   fraud  \n",
              "981 -0.739695  0.471111  0.385107  0.194361   77.89      1   fraud  \n",
              "982 -0.328168  0.606116  0.884876 -0.253700  245.00      1   fraud  \n",
              "983  0.313267 -0.289617  0.002988 -0.015309   42.53      1   fraud  \n",
              "\n",
              "[984 rows x 32 columns]"
            ],
            "text/html": [
              "\n",
              "  <div id=\"df-be6734d3-1f50-44d1-bc63-dffaafb1f824\" class=\"colab-df-container\">\n",
              "    <div>\n",
              "<style scoped>\n",
              "    .dataframe tbody tr th:only-of-type {\n",
              "        vertical-align: middle;\n",
              "    }\n",
              "\n",
              "    .dataframe tbody tr th {\n",
              "        vertical-align: top;\n",
              "    }\n",
              "\n",
              "    .dataframe thead th {\n",
              "        text-align: right;\n",
              "    }\n",
              "</style>\n",
              "<table border=\"1\" class=\"dataframe\">\n",
              "  <thead>\n",
              "    <tr style=\"text-align: right;\">\n",
              "      <th></th>\n",
              "      <th>Time</th>\n",
              "      <th>V1</th>\n",
              "      <th>V2</th>\n",
              "      <th>V3</th>\n",
              "      <th>V4</th>\n",
              "      <th>V5</th>\n",
              "      <th>V6</th>\n",
              "      <th>V7</th>\n",
              "      <th>V8</th>\n",
              "      <th>V9</th>\n",
              "      <th>...</th>\n",
              "      <th>V22</th>\n",
              "      <th>V23</th>\n",
              "      <th>V24</th>\n",
              "      <th>V25</th>\n",
              "      <th>V26</th>\n",
              "      <th>V27</th>\n",
              "      <th>V28</th>\n",
              "      <th>Amount</th>\n",
              "      <th>Class</th>\n",
              "      <th>Group</th>\n",
              "    </tr>\n",
              "  </thead>\n",
              "  <tbody>\n",
              "    <tr>\n",
              "      <th>0</th>\n",
              "      <td>82450.0</td>\n",
              "      <td>1.314539</td>\n",
              "      <td>0.590643</td>\n",
              "      <td>-0.666593</td>\n",
              "      <td>0.716564</td>\n",
              "      <td>0.301978</td>\n",
              "      <td>-1.125467</td>\n",
              "      <td>0.388881</td>\n",
              "      <td>-0.288390</td>\n",
              "      <td>-0.132137</td>\n",
              "      <td>...</td>\n",
              "      <td>-0.429655</td>\n",
              "      <td>-0.141341</td>\n",
              "      <td>-0.200195</td>\n",
              "      <td>0.639491</td>\n",
              "      <td>0.399476</td>\n",
              "      <td>-0.034321</td>\n",
              "      <td>0.031692</td>\n",
              "      <td>0.76</td>\n",
              "      <td>0</td>\n",
              "      <td>normal</td>\n",
              "    </tr>\n",
              "    <tr>\n",
              "      <th>1</th>\n",
              "      <td>50554.0</td>\n",
              "      <td>-0.798672</td>\n",
              "      <td>1.185093</td>\n",
              "      <td>0.904547</td>\n",
              "      <td>0.694584</td>\n",
              "      <td>0.219041</td>\n",
              "      <td>-0.319295</td>\n",
              "      <td>0.495236</td>\n",
              "      <td>0.139269</td>\n",
              "      <td>-0.760214</td>\n",
              "      <td>...</td>\n",
              "      <td>0.578699</td>\n",
              "      <td>-0.092245</td>\n",
              "      <td>0.013723</td>\n",
              "      <td>-0.246466</td>\n",
              "      <td>-0.380057</td>\n",
              "      <td>-0.396030</td>\n",
              "      <td>-0.112901</td>\n",
              "      <td>4.18</td>\n",
              "      <td>0</td>\n",
              "      <td>normal</td>\n",
              "    </tr>\n",
              "    <tr>\n",
              "      <th>2</th>\n",
              "      <td>55125.0</td>\n",
              "      <td>-0.391128</td>\n",
              "      <td>-0.245540</td>\n",
              "      <td>1.122074</td>\n",
              "      <td>-1.308725</td>\n",
              "      <td>-0.639891</td>\n",
              "      <td>0.008678</td>\n",
              "      <td>-0.701304</td>\n",
              "      <td>-0.027315</td>\n",
              "      <td>-2.628854</td>\n",
              "      <td>...</td>\n",
              "      <td>0.117403</td>\n",
              "      <td>-0.191748</td>\n",
              "      <td>-0.488642</td>\n",
              "      <td>-0.309774</td>\n",
              "      <td>0.008100</td>\n",
              "      <td>0.163716</td>\n",
              "      <td>0.239582</td>\n",
              "      <td>15.00</td>\n",
              "      <td>0</td>\n",
              "      <td>normal</td>\n",
              "    </tr>\n",
              "    <tr>\n",
              "      <th>3</th>\n",
              "      <td>116572.0</td>\n",
              "      <td>-0.060302</td>\n",
              "      <td>1.065093</td>\n",
              "      <td>-0.987421</td>\n",
              "      <td>-0.029567</td>\n",
              "      <td>0.176376</td>\n",
              "      <td>-1.348539</td>\n",
              "      <td>0.775644</td>\n",
              "      <td>0.134843</td>\n",
              "      <td>-0.149734</td>\n",
              "      <td>...</td>\n",
              "      <td>0.907570</td>\n",
              "      <td>-0.018454</td>\n",
              "      <td>-0.126269</td>\n",
              "      <td>-0.339923</td>\n",
              "      <td>-0.150285</td>\n",
              "      <td>-0.023634</td>\n",
              "      <td>0.042330</td>\n",
              "      <td>57.00</td>\n",
              "      <td>0</td>\n",
              "      <td>normal</td>\n",
              "    </tr>\n",
              "    <tr>\n",
              "      <th>4</th>\n",
              "      <td>90434.0</td>\n",
              "      <td>1.848433</td>\n",
              "      <td>0.373364</td>\n",
              "      <td>0.269272</td>\n",
              "      <td>3.866438</td>\n",
              "      <td>0.088062</td>\n",
              "      <td>0.970447</td>\n",
              "      <td>-0.721945</td>\n",
              "      <td>0.235983</td>\n",
              "      <td>0.683491</td>\n",
              "      <td>...</td>\n",
              "      <td>0.620954</td>\n",
              "      <td>0.197077</td>\n",
              "      <td>0.692392</td>\n",
              "      <td>-0.206530</td>\n",
              "      <td>-0.021328</td>\n",
              "      <td>-0.019823</td>\n",
              "      <td>-0.042682</td>\n",
              "      <td>0.00</td>\n",
              "      <td>0</td>\n",
              "      <td>normal</td>\n",
              "    </tr>\n",
              "    <tr>\n",
              "      <th>...</th>\n",
              "      <td>...</td>\n",
              "      <td>...</td>\n",
              "      <td>...</td>\n",
              "      <td>...</td>\n",
              "      <td>...</td>\n",
              "      <td>...</td>\n",
              "      <td>...</td>\n",
              "      <td>...</td>\n",
              "      <td>...</td>\n",
              "      <td>...</td>\n",
              "      <td>...</td>\n",
              "      <td>...</td>\n",
              "      <td>...</td>\n",
              "      <td>...</td>\n",
              "      <td>...</td>\n",
              "      <td>...</td>\n",
              "      <td>...</td>\n",
              "      <td>...</td>\n",
              "      <td>...</td>\n",
              "      <td>...</td>\n",
              "      <td>...</td>\n",
              "    </tr>\n",
              "    <tr>\n",
              "      <th>979</th>\n",
              "      <td>169142.0</td>\n",
              "      <td>-1.927883</td>\n",
              "      <td>1.125653</td>\n",
              "      <td>-4.518331</td>\n",
              "      <td>1.749293</td>\n",
              "      <td>-1.566487</td>\n",
              "      <td>-2.010494</td>\n",
              "      <td>-0.882850</td>\n",
              "      <td>0.697211</td>\n",
              "      <td>-2.064945</td>\n",
              "      <td>...</td>\n",
              "      <td>-0.319189</td>\n",
              "      <td>0.639419</td>\n",
              "      <td>-0.294885</td>\n",
              "      <td>0.537503</td>\n",
              "      <td>0.788395</td>\n",
              "      <td>0.292680</td>\n",
              "      <td>0.147968</td>\n",
              "      <td>390.00</td>\n",
              "      <td>1</td>\n",
              "      <td>fraud</td>\n",
              "    </tr>\n",
              "    <tr>\n",
              "      <th>980</th>\n",
              "      <td>169347.0</td>\n",
              "      <td>1.378559</td>\n",
              "      <td>1.289381</td>\n",
              "      <td>-5.004247</td>\n",
              "      <td>1.411850</td>\n",
              "      <td>0.442581</td>\n",
              "      <td>-1.326536</td>\n",
              "      <td>-1.413170</td>\n",
              "      <td>0.248525</td>\n",
              "      <td>-1.127396</td>\n",
              "      <td>...</td>\n",
              "      <td>0.028234</td>\n",
              "      <td>-0.145640</td>\n",
              "      <td>-0.081049</td>\n",
              "      <td>0.521875</td>\n",
              "      <td>0.739467</td>\n",
              "      <td>0.389152</td>\n",
              "      <td>0.186637</td>\n",
              "      <td>0.76</td>\n",
              "      <td>1</td>\n",
              "      <td>fraud</td>\n",
              "    </tr>\n",
              "    <tr>\n",
              "      <th>981</th>\n",
              "      <td>169351.0</td>\n",
              "      <td>-0.676143</td>\n",
              "      <td>1.126366</td>\n",
              "      <td>-2.213700</td>\n",
              "      <td>0.468308</td>\n",
              "      <td>-1.120541</td>\n",
              "      <td>-0.003346</td>\n",
              "      <td>-2.234739</td>\n",
              "      <td>1.210158</td>\n",
              "      <td>-0.652250</td>\n",
              "      <td>...</td>\n",
              "      <td>0.834108</td>\n",
              "      <td>0.190944</td>\n",
              "      <td>0.032070</td>\n",
              "      <td>-0.739695</td>\n",
              "      <td>0.471111</td>\n",
              "      <td>0.385107</td>\n",
              "      <td>0.194361</td>\n",
              "      <td>77.89</td>\n",
              "      <td>1</td>\n",
              "      <td>fraud</td>\n",
              "    </tr>\n",
              "    <tr>\n",
              "      <th>982</th>\n",
              "      <td>169966.0</td>\n",
              "      <td>-3.113832</td>\n",
              "      <td>0.585864</td>\n",
              "      <td>-5.399730</td>\n",
              "      <td>1.817092</td>\n",
              "      <td>-0.840618</td>\n",
              "      <td>-2.943548</td>\n",
              "      <td>-2.208002</td>\n",
              "      <td>1.058733</td>\n",
              "      <td>-1.632333</td>\n",
              "      <td>...</td>\n",
              "      <td>-0.269209</td>\n",
              "      <td>-0.456108</td>\n",
              "      <td>-0.183659</td>\n",
              "      <td>-0.328168</td>\n",
              "      <td>0.606116</td>\n",
              "      <td>0.884876</td>\n",
              "      <td>-0.253700</td>\n",
              "      <td>245.00</td>\n",
              "      <td>1</td>\n",
              "      <td>fraud</td>\n",
              "    </tr>\n",
              "    <tr>\n",
              "      <th>983</th>\n",
              "      <td>170348.0</td>\n",
              "      <td>1.991976</td>\n",
              "      <td>0.158476</td>\n",
              "      <td>-2.583441</td>\n",
              "      <td>0.408670</td>\n",
              "      <td>1.151147</td>\n",
              "      <td>-0.096695</td>\n",
              "      <td>0.223050</td>\n",
              "      <td>-0.068384</td>\n",
              "      <td>0.577829</td>\n",
              "      <td>...</td>\n",
              "      <td>-0.295135</td>\n",
              "      <td>-0.072173</td>\n",
              "      <td>-0.450261</td>\n",
              "      <td>0.313267</td>\n",
              "      <td>-0.289617</td>\n",
              "      <td>0.002988</td>\n",
              "      <td>-0.015309</td>\n",
              "      <td>42.53</td>\n",
              "      <td>1</td>\n",
              "      <td>fraud</td>\n",
              "    </tr>\n",
              "  </tbody>\n",
              "</table>\n",
              "<p>984 rows × 32 columns</p>\n",
              "</div>\n",
              "    <div class=\"colab-df-buttons\">\n",
              "\n",
              "  <div class=\"colab-df-container\">\n",
              "    <button class=\"colab-df-convert\" onclick=\"convertToInteractive('df-be6734d3-1f50-44d1-bc63-dffaafb1f824')\"\n",
              "            title=\"Convert this dataframe to an interactive table.\"\n",
              "            style=\"display:none;\">\n",
              "\n",
              "  <svg xmlns=\"http://www.w3.org/2000/svg\" height=\"24px\" viewBox=\"0 -960 960 960\">\n",
              "    <path d=\"M120-120v-720h720v720H120Zm60-500h600v-160H180v160Zm220 220h160v-160H400v160Zm0 220h160v-160H400v160ZM180-400h160v-160H180v160Zm440 0h160v-160H620v160ZM180-180h160v-160H180v160Zm440 0h160v-160H620v160Z\"/>\n",
              "  </svg>\n",
              "    </button>\n",
              "\n",
              "  <style>\n",
              "    .colab-df-container {\n",
              "      display:flex;\n",
              "      gap: 12px;\n",
              "    }\n",
              "\n",
              "    .colab-df-convert {\n",
              "      background-color: #E8F0FE;\n",
              "      border: none;\n",
              "      border-radius: 50%;\n",
              "      cursor: pointer;\n",
              "      display: none;\n",
              "      fill: #1967D2;\n",
              "      height: 32px;\n",
              "      padding: 0 0 0 0;\n",
              "      width: 32px;\n",
              "    }\n",
              "\n",
              "    .colab-df-convert:hover {\n",
              "      background-color: #E2EBFA;\n",
              "      box-shadow: 0px 1px 2px rgba(60, 64, 67, 0.3), 0px 1px 3px 1px rgba(60, 64, 67, 0.15);\n",
              "      fill: #174EA6;\n",
              "    }\n",
              "\n",
              "    .colab-df-buttons div {\n",
              "      margin-bottom: 4px;\n",
              "    }\n",
              "\n",
              "    [theme=dark] .colab-df-convert {\n",
              "      background-color: #3B4455;\n",
              "      fill: #D2E3FC;\n",
              "    }\n",
              "\n",
              "    [theme=dark] .colab-df-convert:hover {\n",
              "      background-color: #434B5C;\n",
              "      box-shadow: 0px 1px 3px 1px rgba(0, 0, 0, 0.15);\n",
              "      filter: drop-shadow(0px 1px 2px rgba(0, 0, 0, 0.3));\n",
              "      fill: #FFFFFF;\n",
              "    }\n",
              "  </style>\n",
              "\n",
              "    <script>\n",
              "      const buttonEl =\n",
              "        document.querySelector('#df-be6734d3-1f50-44d1-bc63-dffaafb1f824 button.colab-df-convert');\n",
              "      buttonEl.style.display =\n",
              "        google.colab.kernel.accessAllowed ? 'block' : 'none';\n",
              "\n",
              "      async function convertToInteractive(key) {\n",
              "        const element = document.querySelector('#df-be6734d3-1f50-44d1-bc63-dffaafb1f824');\n",
              "        const dataTable =\n",
              "          await google.colab.kernel.invokeFunction('convertToInteractive',\n",
              "                                                    [key], {});\n",
              "        if (!dataTable) return;\n",
              "\n",
              "        const docLinkHtml = 'Like what you see? Visit the ' +\n",
              "          '<a target=\"_blank\" href=https://colab.research.google.com/notebooks/data_table.ipynb>data table notebook</a>'\n",
              "          + ' to learn more about interactive tables.';\n",
              "        element.innerHTML = '';\n",
              "        dataTable['output_type'] = 'display_data';\n",
              "        await google.colab.output.renderOutput(dataTable, element);\n",
              "        const docLink = document.createElement('div');\n",
              "        docLink.innerHTML = docLinkHtml;\n",
              "        element.appendChild(docLink);\n",
              "      }\n",
              "    </script>\n",
              "  </div>\n",
              "\n",
              "\n",
              "<div id=\"df-faa64943-7028-4add-86d1-6a5121739465\">\n",
              "  <button class=\"colab-df-quickchart\" onclick=\"quickchart('df-faa64943-7028-4add-86d1-6a5121739465')\"\n",
              "            title=\"Suggest charts\"\n",
              "            style=\"display:none;\">\n",
              "\n",
              "<svg xmlns=\"http://www.w3.org/2000/svg\" height=\"24px\"viewBox=\"0 0 24 24\"\n",
              "     width=\"24px\">\n",
              "    <g>\n",
              "        <path d=\"M19 3H5c-1.1 0-2 .9-2 2v14c0 1.1.9 2 2 2h14c1.1 0 2-.9 2-2V5c0-1.1-.9-2-2-2zM9 17H7v-7h2v7zm4 0h-2V7h2v10zm4 0h-2v-4h2v4z\"/>\n",
              "    </g>\n",
              "</svg>\n",
              "  </button>\n",
              "\n",
              "<style>\n",
              "  .colab-df-quickchart {\n",
              "      --bg-color: #E8F0FE;\n",
              "      --fill-color: #1967D2;\n",
              "      --hover-bg-color: #E2EBFA;\n",
              "      --hover-fill-color: #174EA6;\n",
              "      --disabled-fill-color: #AAA;\n",
              "      --disabled-bg-color: #DDD;\n",
              "  }\n",
              "\n",
              "  [theme=dark] .colab-df-quickchart {\n",
              "      --bg-color: #3B4455;\n",
              "      --fill-color: #D2E3FC;\n",
              "      --hover-bg-color: #434B5C;\n",
              "      --hover-fill-color: #FFFFFF;\n",
              "      --disabled-bg-color: #3B4455;\n",
              "      --disabled-fill-color: #666;\n",
              "  }\n",
              "\n",
              "  .colab-df-quickchart {\n",
              "    background-color: var(--bg-color);\n",
              "    border: none;\n",
              "    border-radius: 50%;\n",
              "    cursor: pointer;\n",
              "    display: none;\n",
              "    fill: var(--fill-color);\n",
              "    height: 32px;\n",
              "    padding: 0;\n",
              "    width: 32px;\n",
              "  }\n",
              "\n",
              "  .colab-df-quickchart:hover {\n",
              "    background-color: var(--hover-bg-color);\n",
              "    box-shadow: 0 1px 2px rgba(60, 64, 67, 0.3), 0 1px 3px 1px rgba(60, 64, 67, 0.15);\n",
              "    fill: var(--button-hover-fill-color);\n",
              "  }\n",
              "\n",
              "  .colab-df-quickchart-complete:disabled,\n",
              "  .colab-df-quickchart-complete:disabled:hover {\n",
              "    background-color: var(--disabled-bg-color);\n",
              "    fill: var(--disabled-fill-color);\n",
              "    box-shadow: none;\n",
              "  }\n",
              "\n",
              "  .colab-df-spinner {\n",
              "    border: 2px solid var(--fill-color);\n",
              "    border-color: transparent;\n",
              "    border-bottom-color: var(--fill-color);\n",
              "    animation:\n",
              "      spin 1s steps(1) infinite;\n",
              "  }\n",
              "\n",
              "  @keyframes spin {\n",
              "    0% {\n",
              "      border-color: transparent;\n",
              "      border-bottom-color: var(--fill-color);\n",
              "      border-left-color: var(--fill-color);\n",
              "    }\n",
              "    20% {\n",
              "      border-color: transparent;\n",
              "      border-left-color: var(--fill-color);\n",
              "      border-top-color: var(--fill-color);\n",
              "    }\n",
              "    30% {\n",
              "      border-color: transparent;\n",
              "      border-left-color: var(--fill-color);\n",
              "      border-top-color: var(--fill-color);\n",
              "      border-right-color: var(--fill-color);\n",
              "    }\n",
              "    40% {\n",
              "      border-color: transparent;\n",
              "      border-right-color: var(--fill-color);\n",
              "      border-top-color: var(--fill-color);\n",
              "    }\n",
              "    60% {\n",
              "      border-color: transparent;\n",
              "      border-right-color: var(--fill-color);\n",
              "    }\n",
              "    80% {\n",
              "      border-color: transparent;\n",
              "      border-right-color: var(--fill-color);\n",
              "      border-bottom-color: var(--fill-color);\n",
              "    }\n",
              "    90% {\n",
              "      border-color: transparent;\n",
              "      border-bottom-color: var(--fill-color);\n",
              "    }\n",
              "  }\n",
              "</style>\n",
              "\n",
              "  <script>\n",
              "    async function quickchart(key) {\n",
              "      const quickchartButtonEl =\n",
              "        document.querySelector('#' + key + ' button');\n",
              "      quickchartButtonEl.disabled = true;  // To prevent multiple clicks.\n",
              "      quickchartButtonEl.classList.add('colab-df-spinner');\n",
              "      try {\n",
              "        const charts = await google.colab.kernel.invokeFunction(\n",
              "            'suggestCharts', [key], {});\n",
              "      } catch (error) {\n",
              "        console.error('Error during call to suggestCharts:', error);\n",
              "      }\n",
              "      quickchartButtonEl.classList.remove('colab-df-spinner');\n",
              "      quickchartButtonEl.classList.add('colab-df-quickchart-complete');\n",
              "    }\n",
              "    (() => {\n",
              "      let quickchartButtonEl =\n",
              "        document.querySelector('#df-faa64943-7028-4add-86d1-6a5121739465 button');\n",
              "      quickchartButtonEl.style.display =\n",
              "        google.colab.kernel.accessAllowed ? 'block' : 'none';\n",
              "    })();\n",
              "  </script>\n",
              "</div>\n",
              "\n",
              "  <div id=\"id_6c5ad59f-9628-4cfd-a0de-b9a5ed9fb55c\">\n",
              "    <style>\n",
              "      .colab-df-generate {\n",
              "        background-color: #E8F0FE;\n",
              "        border: none;\n",
              "        border-radius: 50%;\n",
              "        cursor: pointer;\n",
              "        display: none;\n",
              "        fill: #1967D2;\n",
              "        height: 32px;\n",
              "        padding: 0 0 0 0;\n",
              "        width: 32px;\n",
              "      }\n",
              "\n",
              "      .colab-df-generate:hover {\n",
              "        background-color: #E2EBFA;\n",
              "        box-shadow: 0px 1px 2px rgba(60, 64, 67, 0.3), 0px 1px 3px 1px rgba(60, 64, 67, 0.15);\n",
              "        fill: #174EA6;\n",
              "      }\n",
              "\n",
              "      [theme=dark] .colab-df-generate {\n",
              "        background-color: #3B4455;\n",
              "        fill: #D2E3FC;\n",
              "      }\n",
              "\n",
              "      [theme=dark] .colab-df-generate:hover {\n",
              "        background-color: #434B5C;\n",
              "        box-shadow: 0px 1px 3px 1px rgba(0, 0, 0, 0.15);\n",
              "        filter: drop-shadow(0px 1px 2px rgba(0, 0, 0, 0.3));\n",
              "        fill: #FFFFFF;\n",
              "      }\n",
              "    </style>\n",
              "    <button class=\"colab-df-generate\" onclick=\"generateWithVariable('balanced_data')\"\n",
              "            title=\"Generate code using this dataframe.\"\n",
              "            style=\"display:none;\">\n",
              "\n",
              "  <svg xmlns=\"http://www.w3.org/2000/svg\" height=\"24px\"viewBox=\"0 0 24 24\"\n",
              "       width=\"24px\">\n",
              "    <path d=\"M7,19H8.4L18.45,9,17,7.55,7,17.6ZM5,21V16.75L18.45,3.32a2,2,0,0,1,2.83,0l1.4,1.43a1.91,1.91,0,0,1,.58,1.4,1.91,1.91,0,0,1-.58,1.4L9.25,21ZM18.45,9,17,7.55Zm-12,3A5.31,5.31,0,0,0,4.9,8.1,5.31,5.31,0,0,0,1,6.5,5.31,5.31,0,0,0,4.9,4.9,5.31,5.31,0,0,0,6.5,1,5.31,5.31,0,0,0,8.1,4.9,5.31,5.31,0,0,0,12,6.5,5.46,5.46,0,0,0,6.5,12Z\"/>\n",
              "  </svg>\n",
              "    </button>\n",
              "    <script>\n",
              "      (() => {\n",
              "      const buttonEl =\n",
              "        document.querySelector('#id_6c5ad59f-9628-4cfd-a0de-b9a5ed9fb55c button.colab-df-generate');\n",
              "      buttonEl.style.display =\n",
              "        google.colab.kernel.accessAllowed ? 'block' : 'none';\n",
              "\n",
              "      buttonEl.onclick = () => {\n",
              "        google.colab.notebook.generateWithVariable('balanced_data');\n",
              "      }\n",
              "      })();\n",
              "    </script>\n",
              "  </div>\n",
              "\n",
              "    </div>\n",
              "  </div>\n"
            ],
            "application/vnd.google.colaboratory.intrinsic+json": {
              "type": "dataframe",
              "variable_name": "balanced_data"
            }
          },
          "metadata": {},
          "execution_count": 89
        }
      ]
    },
    {
      "cell_type": "code",
      "source": [
        "# Dividing the data into inputs parameters and outputs value format.\n",
        "# Dividing the X and the Y from the dataset.\n",
        "X = balanced_data.drop(['Class','Group'], axis = 1)\n",
        "Y = balanced_data[\"Class\"]\n",
        "print(X.shape)\n",
        "print(Y.shape)\n",
        "# Getting just the values for the sake of processing.\n",
        "# (Its a numpy array with no columns).\n",
        "xData = X.values\n",
        "yData = Y.values"
      ],
      "metadata": {
        "colab": {
          "base_uri": "https://localhost:8080/"
        },
        "id": "SJ_YE0cSkDUV",
        "outputId": "094b5e3f-98b6-487b-a858-6a64f79b88ab"
      },
      "execution_count": null,
      "outputs": [
        {
          "output_type": "stream",
          "name": "stdout",
          "text": [
            "(984, 30)\n",
            "(984,)\n"
          ]
        }
      ]
    },
    {
      "cell_type": "code",
      "source": [
        "xData"
      ],
      "metadata": {
        "colab": {
          "base_uri": "https://localhost:8080/"
        },
        "id": "wKPUWjvbkwTP",
        "outputId": "0769dedc-6eb4-4b53-891b-5615da93b214"
      },
      "execution_count": null,
      "outputs": [
        {
          "output_type": "execute_result",
          "data": {
            "text/plain": [
              "array([[ 8.24500000e+04,  1.31453919e+00,  5.90642763e-01, ...,\n",
              "        -3.43210090e-02,  3.16924133e-02,  7.60000000e-01],\n",
              "       [ 5.05540000e+04, -7.98671774e-01,  1.18509291e+00, ...,\n",
              "        -3.96030194e-01, -1.12900666e-01,  4.18000000e+00],\n",
              "       [ 5.51250000e+04, -3.91128407e-01, -2.45539891e-01, ...,\n",
              "         1.63716130e-01,  2.39582023e-01,  1.50000000e+01],\n",
              "       ...,\n",
              "       [ 1.69351000e+05, -6.76142671e-01,  1.12636606e+00, ...,\n",
              "         3.85107449e-01,  1.94361479e-01,  7.78900000e+01],\n",
              "       [ 1.69966000e+05, -3.11383161e+00,  5.85864172e-01, ...,\n",
              "         8.84875540e-01, -2.53700319e-01,  2.45000000e+02],\n",
              "       [ 1.70348000e+05,  1.99197610e+00,  1.58475887e-01, ...,\n",
              "         2.98758224e-03, -1.53088128e-02,  4.25300000e+01]])"
            ]
          },
          "metadata": {},
          "execution_count": 91
        }
      ]
    },
    {
      "cell_type": "markdown",
      "metadata": {
        "id": "RjNlL6PQRRGB"
      },
      "source": [
        "# 9. Training and testing sets."
      ]
    },
    {
      "cell_type": "markdown",
      "source": [
        "## 9.1. Before Downsampling."
      ],
      "metadata": {
        "id": "eZDDTecdlVZo"
      }
    },
    {
      "cell_type": "code",
      "execution_count": null,
      "metadata": {
        "id": "k4c8sl96RRGB"
      },
      "outputs": [],
      "source": [
        "# Using Scikit-learn to split data into training and testing sets by using train_test_split function.\n",
        "from sklearn.model_selection import train_test_split\n",
        "# Split the data into training and testing sets.\n",
        "xTrain, xTest, yTrain, yTest = train_test_split(xData, yData, test_size = 0.2, random_state = 42)"
      ]
    },
    {
      "cell_type": "code",
      "source": [
        "xTrain"
      ],
      "metadata": {
        "colab": {
          "base_uri": "https://localhost:8080/"
        },
        "id": "o0qwaztBV7kz",
        "outputId": "769de420-158e-4cac-cc22-3895b34a0f5b"
      },
      "execution_count": null,
      "outputs": [
        {
          "output_type": "execute_result",
          "data": {
            "text/plain": [
              "array([[ 1.46127000e+05, -1.55341594e+00, -2.92168323e+00, ...,\n",
              "        -2.83483763e-01,  5.84795071e-02,  9.58920000e+02],\n",
              "       [ 1.16303000e+05, -7.30066796e-01, -1.17409641e+00, ...,\n",
              "         1.21398316e-01,  2.35096577e-01,  2.12000000e+02],\n",
              "       [ 9.54150000e+04, -7.58870229e-01,  1.71273488e+00, ...,\n",
              "         1.37405105e-01, -3.99092058e-01,  8.30000000e-01],\n",
              "       ...,\n",
              "       [ 7.97950000e+04, -1.46608925e-01,  9.92946123e-01, ...,\n",
              "        -1.21139194e-01, -1.96195328e-01,  3.94000000e+00],\n",
              "       [ 8.79310000e+04, -2.94863809e+00,  2.35484929e+00, ...,\n",
              "         4.96912107e-01,  3.35821632e-01,  1.00000000e+00],\n",
              "       [ 7.63810000e+04,  1.23317435e+00, -7.84850501e-01, ...,\n",
              "         1.21657270e-03,  3.85878912e-02,  1.13000000e+02]])"
            ]
          },
          "metadata": {},
          "execution_count": 36
        }
      ]
    },
    {
      "cell_type": "code",
      "source": [
        "yTrain"
      ],
      "metadata": {
        "colab": {
          "base_uri": "https://localhost:8080/"
        },
        "id": "JgGCmINjV2m4",
        "outputId": "a317c3d7-4ea9-4dc2-b093-bfbc44dd9936"
      },
      "execution_count": null,
      "outputs": [
        {
          "output_type": "execute_result",
          "data": {
            "text/plain": [
              "array([0., 0., 0., ..., 0., 0., 0.])"
            ]
          },
          "metadata": {},
          "execution_count": 37
        }
      ]
    },
    {
      "cell_type": "markdown",
      "source": [
        "## 9.2. After Downsampling."
      ],
      "metadata": {
        "id": "FRJVRm4wla1v"
      }
    },
    {
      "cell_type": "code",
      "source": [
        "# Using Scikit-learn to split data into training and testing sets by using train_test_split function.\n",
        "from sklearn.model_selection import train_test_split\n",
        "# Split the data into training and testing sets.\n",
        "xTrain, xTest, yTrain, yTest = train_test_split(xData, yData, test_size = 0.2, random_state = 42)"
      ],
      "metadata": {
        "id": "QIqXCeCVlaWQ"
      },
      "execution_count": null,
      "outputs": []
    },
    {
      "cell_type": "code",
      "source": [
        "xTrain"
      ],
      "metadata": {
        "colab": {
          "base_uri": "https://localhost:8080/"
        },
        "id": "P7xONOH0ljW0",
        "outputId": "91886673-9df0-4281-b69d-87526ccf4e5b"
      },
      "execution_count": null,
      "outputs": [
        {
          "output_type": "execute_result",
          "data": {
            "text/plain": [
              "array([[146128.0, -0.587513835769608, 0.431051913099278, ...,\n",
              "        0.13033410317071, 35.0, 'normal'],\n",
              "       [116303.0, 1.77491666449302, -0.160205016568206, ...,\n",
              "        -0.0527538070329975, 130.0, 'normal'],\n",
              "       [146997.0, 2.01370555840337, -0.183753329409972, ...,\n",
              "        -0.0691312393739813, 19.95, 'normal'],\n",
              "       ...,\n",
              "       [79795.0, -0.146608924901263, 0.992946122844556, ...,\n",
              "        -0.196195328072126, 3.94, 'normal'],\n",
              "       [87931.0, -2.94863809342513, 2.35484928853394, ...,\n",
              "        0.33582163221274, 1.0, 'normal'],\n",
              "       [76381.0, 1.23317435028622, -0.784850500688698, ...,\n",
              "        0.0385878911833923, 113.0, 'normal']], dtype=object)"
            ]
          },
          "metadata": {},
          "execution_count": 17
        }
      ]
    },
    {
      "cell_type": "code",
      "source": [
        "yTrain"
      ],
      "metadata": {
        "colab": {
          "base_uri": "https://localhost:8080/"
        },
        "id": "xx40wekylpR6",
        "outputId": "c2aa48d7-6443-4ad5-e8d9-8e16476b3f21"
      },
      "execution_count": null,
      "outputs": [
        {
          "output_type": "execute_result",
          "data": {
            "text/plain": [
              "array([0., 0., 0., ..., 0., 0., 0.])"
            ]
          },
          "metadata": {},
          "execution_count": 18
        }
      ]
    },
    {
      "cell_type": "markdown",
      "metadata": {
        "id": "fEhrbsxeRRGB"
      },
      "source": [
        "# 10. Build model using Random Forest."
      ]
    },
    {
      "cell_type": "markdown",
      "source": [
        "## 10.1. Before Downsampling."
      ],
      "metadata": {
        "id": "S85EZpiBlu_6"
      }
    },
    {
      "cell_type": "code",
      "execution_count": null,
      "metadata": {
        "id": "_cbuq1BJRRGB"
      },
      "outputs": [],
      "source": [
        "# Building the Random Forest Classifier (RANDOM FOREST).\n",
        "from sklearn.ensemble import RandomForestClassifier\n",
        "rfc = RandomForestClassifier()\n",
        "rfc.fit(xTrain, yTrain)\n",
        "yPred = rfc.predict(xTest)"
      ]
    },
    {
      "cell_type": "markdown",
      "source": [
        "## 10.2. Sau Downsampling."
      ],
      "metadata": {
        "id": "a1-fNIQdlyxl"
      }
    },
    {
      "cell_type": "code",
      "source": [
        "# Building the Random Forest Classifier (RANDOM FOREST).\n",
        "from sklearn.ensemble import RandomForestClassifier\n",
        "rfc = RandomForestClassifier()\n",
        "rfc.fit(xTrain, yTrain)\n",
        "yPred = rfc.predict(xTest)"
      ],
      "metadata": {
        "id": "1nhKNTgNlygl"
      },
      "execution_count": null,
      "outputs": []
    },
    {
      "cell_type": "markdown",
      "metadata": {
        "id": "5WlSkJqqRRGB"
      },
      "source": [
        "# 11. Evaluate Random Forest results."
      ]
    },
    {
      "cell_type": "markdown",
      "source": [
        "## 11.1. Before Downsampling."
      ],
      "metadata": {
        "id": "dFCbX0I6l5sH"
      }
    },
    {
      "cell_type": "code",
      "execution_count": null,
      "metadata": {
        "id": "nvoeurX2RRGB",
        "colab": {
          "base_uri": "https://localhost:8080/"
        },
        "outputId": "c9639b1e-5723-4180-9fe3-3b8c89b2bed8"
      },
      "outputs": [
        {
          "output_type": "stream",
          "name": "stdout",
          "text": [
            "The model used is Random Forest classifier.\n",
            "The accuracy is 0.9995619067487223.\n",
            "The precision is 0.9615384615384616.\n",
            "The recall is 0.7246376811594203.\n",
            "The F1-Score is 0.8264462809917356\n",
            "The Matthews correlation coefficient is 0.8345293912223057.\n"
          ]
        }
      ],
      "source": [
        "# Evaluating the classifier.\n",
        "# Printing every score of the classifier.\n",
        "# Scoring in anything.\n",
        "from sklearn.metrics import classification_report, accuracy_score\n",
        "from sklearn.metrics import precision_score, recall_score\n",
        "from sklearn.metrics import f1_score, matthews_corrcoef\n",
        "from sklearn.metrics import confusion_matrix\n",
        "\n",
        "n_outliers = len(fraud)\n",
        "n_errors = (yPred != yTest).sum()\n",
        "print(\"The model used is Random Forest classifier.\")\n",
        "\n",
        "acc = accuracy_score(yTest, yPred)\n",
        "print(\"The accuracy is {}.\".format(acc))\n",
        "\n",
        "prec = precision_score(yTest, yPred)\n",
        "print(\"The precision is {}.\".format(prec))\n",
        "\n",
        "rec = recall_score(yTest, yPred)\n",
        "print(\"The recall is {}.\".format(rec))\n",
        "\n",
        "f1 = f1_score(yTest, yPred)\n",
        "print(\"The F1-Score is {}\".format(f1))\n",
        "\n",
        "MCC = matthews_corrcoef(yTest, yPred)\n",
        "print(\"The Matthews correlation coefficient is {}.\".format(MCC))"
      ]
    },
    {
      "cell_type": "markdown",
      "source": [
        "## 11.2. After Downsampling."
      ],
      "metadata": {
        "id": "KWs6GcOWl9CF"
      }
    },
    {
      "cell_type": "code",
      "source": [
        "# Evaluating the classifier.\n",
        "# Printing every score of the classifier.\n",
        "# Scoring in anything.\n",
        "from sklearn.metrics import classification_report, accuracy_score\n",
        "from sklearn.metrics import precision_score, recall_score\n",
        "from sklearn.metrics import f1_score, matthews_corrcoef\n",
        "from sklearn.metrics import confusion_matrix\n",
        "\n",
        "n_outliers = len(fraud)\n",
        "n_errors = (yPred != yTest).sum()\n",
        "print(\"The model used is Random Forest classifier.\")\n",
        "\n",
        "acc = accuracy_score(yTest, yPred)\n",
        "print(\"The accuracy is {}.\".format(acc))\n",
        "\n",
        "prec = precision_score(yTest, yPred)\n",
        "print(\"The precision is {}.\".format(prec))\n",
        "\n",
        "rec = recall_score(yTest, yPred)\n",
        "print(\"The recall is {}.\".format(rec))\n",
        "\n",
        "f1 = f1_score(yTest, yPred)\n",
        "print(\"The F1-Score is {}\".format(f1))\n",
        "\n",
        "MCC = matthews_corrcoef(yTest, yPred)\n",
        "print(\"The Matthews correlation coefficient is {}.\".format(MCC))"
      ],
      "metadata": {
        "colab": {
          "base_uri": "https://localhost:8080/"
        },
        "id": "Uz2YZ1TFmAGK",
        "outputId": "096e6c2f-79f9-4943-a993-748078c3c4c5"
      },
      "execution_count": null,
      "outputs": [
        {
          "output_type": "stream",
          "name": "stdout",
          "text": [
            "The model used is Random Forest classifier.\n",
            "The accuracy is 0.9238578680203046.\n",
            "The precision is 0.9560439560439561.\n",
            "The recall is 0.8877551020408163.\n",
            "The F1-Score is 0.9206349206349207\n",
            "The Matthews correlation coefficient is 0.849807156821831.\n"
          ]
        }
      ]
    },
    {
      "cell_type": "markdown",
      "metadata": {
        "id": "ki8D6ItvRRGC"
      },
      "source": [
        "# 12. Code : Visualizing the Confusion Matrix."
      ]
    },
    {
      "cell_type": "code",
      "execution_count": null,
      "metadata": {
        "id": "KQogx-PgRRGC",
        "colab": {
          "base_uri": "https://localhost:8080/"
        },
        "outputId": "6ad46467-3dc1-494d-c417-45bf4883a860"
      },
      "outputs": [
        {
          "output_type": "stream",
          "name": "stdout",
          "text": [
            "[1 0 1 0 0 1 1 0 1 1 0 1 1 1 0 0 0 1 1 0 0 0 1 0 1 0 0 0 0 0 0 0 0 0 1 0 0\n",
            " 0 0 0 0 0 1 0 1 1 1 0 0 1 1 0 1 1 1 1 1 0 1 1 0 0 0 0 0 0 1 0 0 1 0 0 0 1\n",
            " 1 0 1 0 1 0 1 1 1 1 0 1 0 1 1 1 0 0 1 1 1 1 1 1 1 1 1 1 0 1 1 1 0 1 1 1 1\n",
            " 0 1 0 1 0 0 1 0 1 0 1 0 1 1 1 1 0 0 1 1 1 0 0 1 0 0 0 1 1 1 1 1 0 1 0 0 0\n",
            " 0 0 0 0 0 1 0 1 1 0 1 0 0 0 0 1 1 1 1 1 0 0 1 1 0 0 0 0 0 0 1 0 1 1 0 0 0\n",
            " 0 0 1 1 1 1 1 0 0 1 0 1]\n"
          ]
        }
      ],
      "source": [
        "print(yTest)"
      ]
    },
    {
      "cell_type": "code",
      "execution_count": null,
      "metadata": {
        "id": "-Mwvu3eLRRGC",
        "colab": {
          "base_uri": "https://localhost:8080/"
        },
        "outputId": "40cdadfb-f350-46ef-e40b-93b3f1fcc015"
      },
      "outputs": [
        {
          "output_type": "stream",
          "name": "stdout",
          "text": [
            "[1 0 1 0 0 1 1 0 1 1 0 1 0 0 0 0 0 1 1 0 0 0 1 0 1 1 0 1 0 0 0 0 0 0 1 0 0\n",
            " 1 0 0 0 0 1 0 1 0 0 0 0 1 1 0 1 1 1 1 1 0 1 1 0 0 0 0 0 0 1 0 0 1 0 0 0 1\n",
            " 0 0 0 0 0 0 1 1 1 1 0 0 0 1 1 1 0 0 1 1 1 1 0 1 1 1 1 1 0 1 1 1 0 1 1 1 1\n",
            " 0 1 0 1 0 0 1 0 1 0 1 0 1 1 1 1 0 0 1 1 1 0 0 1 0 0 0 1 1 1 1 1 0 1 0 0 0\n",
            " 0 0 0 0 0 0 0 1 1 0 1 0 0 0 0 1 1 0 1 1 0 0 1 1 0 0 0 0 0 0 1 0 1 1 0 0 0\n",
            " 0 1 1 1 1 1 1 0 0 1 0 1]\n"
          ]
        }
      ],
      "source": [
        "print(yPred)"
      ]
    },
    {
      "cell_type": "code",
      "execution_count": null,
      "metadata": {
        "id": "WjICs8xHRRGC",
        "colab": {
          "base_uri": "https://localhost:8080/",
          "height": 699
        },
        "outputId": "feba8440-8c47-4899-ff7e-025af9c86fbf"
      },
      "outputs": [
        {
          "output_type": "display_data",
          "data": {
            "text/plain": [
              "<Figure size 1200x1200 with 2 Axes>"
            ],
            "image/png": "[encoded data removed]"
          },
          "metadata": {}
        }
      ],
      "source": [
        "# Printing the confusion matrix.\n",
        "LABELS = ['Normal', 'Fraud']\n",
        "conf_matrix = confusion_matrix(yTest, yPred)\n",
        "plt.figure(figsize =(12, 12))\n",
        "sns.heatmap(conf_matrix, xticklabels = LABELS,\n",
        "            yticklabels = LABELS, annot = True, fmt =\"d\");\n",
        "plt.title(\"Confusion matrix\")\n",
        "plt.ylabel('True class')\n",
        "plt.xlabel('Predicted class')\n",
        "plt.show()"
      ]
    },
    {
      "cell_type": "markdown",
      "metadata": {
        "id": "-YqMGNERRRGC"
      },
      "source": [
        "- Comparison with other algorithms without dealing with the imbalancing of the data.\n",
        "- As you can see with our Random Forest Model we are getting a better result even for the recall which is the most tricky part."
      ]
    },
    {
      "cell_type": "markdown",
      "source": [
        "# 13. Build models using Logistic Regression."
      ],
      "metadata": {
        "id": "Ivwv_8nxn24y"
      }
    },
    {
      "cell_type": "code",
      "source": [
        "from sklearn.linear_model import LogisticRegression\n",
        "model = LogisticRegression()"
      ],
      "metadata": {
        "id": "qR8l9lSzn6bv"
      },
      "execution_count": null,
      "outputs": []
    },
    {
      "cell_type": "code",
      "source": [
        "xTrain"
      ],
      "metadata": {
        "colab": {
          "base_uri": "https://localhost:8080/"
        },
        "id": "JtxVO7k9oZVV",
        "outputId": "d248d401-98b8-4532-9886-25fbe07e738b"
      },
      "execution_count": null,
      "outputs": [
        {
          "output_type": "execute_result",
          "data": {
            "text/plain": [
              "array([[ 1.46127000e+05, -1.55341594e+00, -2.92168323e+00, ...,\n",
              "        -2.83483763e-01,  5.84795071e-02,  9.58920000e+02],\n",
              "       [ 1.16303000e+05, -7.30066796e-01, -1.17409641e+00, ...,\n",
              "         1.21398316e-01,  2.35096577e-01,  2.12000000e+02],\n",
              "       [ 9.54150000e+04, -7.58870229e-01,  1.71273488e+00, ...,\n",
              "         1.37405105e-01, -3.99092058e-01,  8.30000000e-01],\n",
              "       ...,\n",
              "       [ 7.97950000e+04, -1.46608925e-01,  9.92946123e-01, ...,\n",
              "        -1.21139194e-01, -1.96195328e-01,  3.94000000e+00],\n",
              "       [ 8.79310000e+04, -2.94863809e+00,  2.35484929e+00, ...,\n",
              "         4.96912107e-01,  3.35821632e-01,  1.00000000e+00],\n",
              "       [ 7.63810000e+04,  1.23317435e+00, -7.84850501e-01, ...,\n",
              "         1.21657270e-03,  3.85878912e-02,  1.13000000e+02]])"
            ]
          },
          "metadata": {},
          "execution_count": 42
        }
      ]
    },
    {
      "cell_type": "code",
      "source": [
        "yTrain"
      ],
      "metadata": {
        "colab": {
          "base_uri": "https://localhost:8080/"
        },
        "id": "nQB2IEMZoiFo",
        "outputId": "5cf2e533-193a-49f1-f5c8-b14412582a74"
      },
      "execution_count": null,
      "outputs": [
        {
          "output_type": "execute_result",
          "data": {
            "text/plain": [
              "array([0., 0., 0., ..., 0., 0., 0.])"
            ]
          },
          "metadata": {},
          "execution_count": 43
        }
      ]
    },
    {
      "cell_type": "code",
      "source": [
        "# Training the Logistic Regression Model with Training Data.\n",
        "model.fit(xTrain, yTrain)"
      ],
      "metadata": {
        "colab": {
          "base_uri": "https://localhost:8080/",
          "height": 233
        },
        "id": "cc95-WYvoF99",
        "outputId": "ce766a52-3e23-49f1-d0a7-776807a0e3b6"
      },
      "execution_count": null,
      "outputs": [
        {
          "output_type": "stream",
          "name": "stderr",
          "text": [
            "/usr/local/lib/python3.10/dist-packages/sklearn/linear_model/_logistic.py:458: ConvergenceWarning: lbfgs failed to converge (status=1):\n",
            "STOP: TOTAL NO. of ITERATIONS REACHED LIMIT.\n",
            "\n",
            "Increase the number of iterations (max_iter) or scale the data as shown in:\n",
            "    https://scikit-learn.org/stable/modules/preprocessing.html\n",
            "Please also refer to the documentation for alternative solver options:\n",
            "    https://scikit-learn.org/stable/modules/linear_model.html#logistic-regression\n",
            "  n_iter_i = _check_optimize_result(\n"
          ]
        },
        {
          "output_type": "execute_result",
          "data": {
            "text/plain": [
              "LogisticRegression()"
            ],
            "text/html": [
              "<style>#sk-container-id-1 {color: black;background-color: white;}#sk-container-id-1 pre{padding: 0;}#sk-container-id-1 div.sk-toggleable {background-color: white;}#sk-container-id-1 label.sk-toggleable__label {cursor: pointer;display: block;width: 100%;margin-bottom: 0;padding: 0.3em;box-sizing: border-box;text-align: center;}#sk-container-id-1 label.sk-toggleable__label-arrow:before {content: \"▸\";float: left;margin-right: 0.25em;color: #696969;}#sk-container-id-1 label.sk-toggleable__label-arrow:hover:before {color: black;}#sk-container-id-1 div.sk-estimator:hover label.sk-toggleable__label-arrow:before {color: black;}#sk-container-id-1 div.sk-toggleable__content {max-height: 0;max-width: 0;overflow: hidden;text-align: left;background-color: #f0f8ff;}#sk-container-id-1 div.sk-toggleable__content pre {margin: 0.2em;color: black;border-radius: 0.25em;background-color: #f0f8ff;}#sk-container-id-1 input.sk-toggleable__control:checked~div.sk-toggleable__content {max-height: 200px;max-width: 100%;overflow: auto;}#sk-container-id-1 input.sk-toggleable__control:checked~label.sk-toggleable__label-arrow:before {content: \"▾\";}#sk-container-id-1 div.sk-estimator input.sk-toggleable__control:checked~label.sk-toggleable__label {background-color: #d4ebff;}#sk-container-id-1 div.sk-label input.sk-toggleable__control:checked~label.sk-toggleable__label {background-color: #d4ebff;}#sk-container-id-1 input.sk-hidden--visually {border: 0;clip: rect(1px 1px 1px 1px);clip: rect(1px, 1px, 1px, 1px);height: 1px;margin: -1px;overflow: hidden;padding: 0;position: absolute;width: 1px;}#sk-container-id-1 div.sk-estimator {font-family: monospace;background-color: #f0f8ff;border: 1px dotted black;border-radius: 0.25em;box-sizing: border-box;margin-bottom: 0.5em;}#sk-container-id-1 div.sk-estimator:hover {background-color: #d4ebff;}#sk-container-id-1 div.sk-parallel-item::after {content: \"\";width: 100%;border-bottom: 1px solid gray;flex-grow: 1;}#sk-container-id-1 div.sk-label:hover label.sk-toggleable__label {background-color: #d4ebff;}#sk-container-id-1 div.sk-serial::before {content: \"\";position: absolute;border-left: 1px solid gray;box-sizing: border-box;top: 0;bottom: 0;left: 50%;z-index: 0;}#sk-container-id-1 div.sk-serial {display: flex;flex-direction: column;align-items: center;background-color: white;padding-right: 0.2em;padding-left: 0.2em;position: relative;}#sk-container-id-1 div.sk-item {position: relative;z-index: 1;}#sk-container-id-1 div.sk-parallel {display: flex;align-items: stretch;justify-content: center;background-color: white;position: relative;}#sk-container-id-1 div.sk-item::before, #sk-container-id-1 div.sk-parallel-item::before {content: \"\";position: absolute;border-left: 1px solid gray;box-sizing: border-box;top: 0;bottom: 0;left: 50%;z-index: -1;}#sk-container-id-1 div.sk-parallel-item {display: flex;flex-direction: column;z-index: 1;position: relative;background-color: white;}#sk-container-id-1 div.sk-parallel-item:first-child::after {align-self: flex-end;width: 50%;}#sk-container-id-1 div.sk-parallel-item:last-child::after {align-self: flex-start;width: 50%;}#sk-container-id-1 div.sk-parallel-item:only-child::after {width: 0;}#sk-container-id-1 div.sk-dashed-wrapped {border: 1px dashed gray;margin: 0 0.4em 0.5em 0.4em;box-sizing: border-box;padding-bottom: 0.4em;background-color: white;}#sk-container-id-1 div.sk-label label {font-family: monospace;font-weight: bold;display: inline-block;line-height: 1.2em;}#sk-container-id-1 div.sk-label-container {text-align: center;}#sk-container-id-1 div.sk-container {/* jupyter's `normalize.less` sets `[hidden] { display: none; }` but bootstrap.min.css set `[hidden] { display: none !important; }` so we also need the `!important` here to be able to override the default hidden behavior on the sphinx rendered scikit-learn.org. See: https://github.com/scikit-learn/scikit-learn/issues/21755 */display: inline-block !important;position: relative;}#sk-container-id-1 div.sk-text-repr-fallback {display: none;}</style><div id=\"sk-container-id-1\" class=\"sk-top-container\"><div class=\"sk-text-repr-fallback\"><pre>LogisticRegression()</pre><b>In a Jupyter environment, please rerun this cell to show the HTML representation or trust the notebook. <br />On GitHub, the HTML representation is unable to render, please try loading this page with nbviewer.org.</b></div><div class=\"sk-container\" hidden><div class=\"sk-item\"><div class=\"sk-estimator sk-toggleable\"><input class=\"sk-toggleable__control sk-hidden--visually\" id=\"sk-estimator-id-1\" type=\"checkbox\" checked><label for=\"sk-estimator-id-1\" class=\"sk-toggleable__label sk-toggleable__label-arrow\">LogisticRegression</label><div class=\"sk-toggleable__content\"><pre>LogisticRegression()</pre></div></div></div></div></div>"
            ]
          },
          "metadata": {},
          "execution_count": 44
        }
      ]
    },
    {
      "cell_type": "markdown",
      "source": [
        "### 13.1. Trước Downsampling."
      ],
      "metadata": {
        "id": "xdrY_a3bg-r4"
      }
    },
    {
      "cell_type": "code",
      "source": [
        "# Accuracy on training data.\n",
        "X_train_prediction = model.predict(xTrain)\n",
        "training_data_accuracy = accuracy_score(X_train_prediction, yTrain)"
      ],
      "metadata": {
        "id": "Cc1GhBHvhIWF"
      },
      "execution_count": null,
      "outputs": []
    },
    {
      "cell_type": "code",
      "source": [
        "print('Accuracy on Training data : ', training_data_accuracy)"
      ],
      "metadata": {
        "colab": {
          "base_uri": "https://localhost:8080/"
        },
        "id": "5OBPmn_JhJcO",
        "outputId": "5fe374be-7117-415c-9629-c624f2914f1a"
      },
      "execution_count": null,
      "outputs": [
        {
          "output_type": "stream",
          "name": "stdout",
          "text": [
            "Accuracy on Training data :  0.9989673354647252\n"
          ]
        }
      ]
    },
    {
      "cell_type": "code",
      "source": [
        "# Accuracy on test data.\n",
        "X_test_prediction = model.predict(xTest)\n",
        "test_data_accuracy = accuracy_score(X_test_prediction, yTest)"
      ],
      "metadata": {
        "id": "Jb7cE-auhJP_"
      },
      "execution_count": null,
      "outputs": []
    },
    {
      "cell_type": "code",
      "source": [
        "print('Accuracy score on Test Data : ', test_data_accuracy)"
      ],
      "metadata": {
        "colab": {
          "base_uri": "https://localhost:8080/"
        },
        "id": "zSWGdmWvhJLH",
        "outputId": "d92575a9-765f-4a0c-ac58-7c5b54035aae"
      },
      "execution_count": null,
      "outputs": [
        {
          "output_type": "stream",
          "name": "stdout",
          "text": [
            "Accuracy score on Test Data :  0.9989777824136852\n"
          ]
        }
      ]
    },
    {
      "cell_type": "markdown",
      "source": [
        "### 13.2. Sau Downsampling."
      ],
      "metadata": {
        "id": "4a4_nm1_hCgA"
      }
    },
    {
      "cell_type": "code",
      "source": [
        "# Accuracy on training data.\n",
        "X_train_prediction = model.predict(xTrain)\n",
        "training_data_accuracy = accuracy_score(X_train_prediction, yTrain)"
      ],
      "metadata": {
        "id": "3G_eF2Progt0"
      },
      "execution_count": null,
      "outputs": []
    },
    {
      "cell_type": "code",
      "source": [
        "print('Accuracy on Training data : ', training_data_accuracy)"
      ],
      "metadata": {
        "colab": {
          "base_uri": "https://localhost:8080/"
        },
        "id": "z9hhO-ewotNp",
        "outputId": "ba66a94f-b6f1-4d83-a2a3-2a48ae08a488"
      },
      "execution_count": null,
      "outputs": [
        {
          "output_type": "stream",
          "name": "stdout",
          "text": [
            "Accuracy on Training data :  0.9428208386277002\n"
          ]
        }
      ]
    },
    {
      "cell_type": "code",
      "source": [
        "# Accuracy on test data.\n",
        "X_test_prediction = model.predict(xTest)\n",
        "test_data_accuracy = accuracy_score(X_test_prediction, yTest)"
      ],
      "metadata": {
        "id": "ZPf_IMuKpvyt"
      },
      "execution_count": null,
      "outputs": []
    },
    {
      "cell_type": "code",
      "source": [
        "print('Accuracy score on Test Data : ', test_data_accuracy)"
      ],
      "metadata": {
        "colab": {
          "base_uri": "https://localhost:8080/"
        },
        "id": "K3Z6NVlrp3zU",
        "outputId": "090861d5-ac76-4c0e-8f71-abfb683cf708"
      },
      "execution_count": null,
      "outputs": [
        {
          "output_type": "stream",
          "name": "stdout",
          "text": [
            "Accuracy score on Test Data :  0.9289340101522843\n"
          ]
        }
      ]
    },
    {
      "cell_type": "markdown",
      "source": [
        "=> Logistics model is simple but better."
      ],
      "metadata": {
        "id": "hAVwaT3wqL8a"
      }
    },
    {
      "cell_type": "markdown",
      "source": [
        "# 14. Use Gradient for optimization."
      ],
      "metadata": {
        "id": "AbeSk4RBxSEN"
      }
    },
    {
      "cell_type": "code",
      "source": [
        "# Importing libraries necessary for Model Building and Training.\n",
        "import pandas as pd\n",
        "import numpy as np\n",
        "import tensorflow as tf\n",
        "from tensorflow.keras.models import Sequential\n",
        "from tensorflow.keras.layers import Dense, LSTM, Dropout\n",
        "from sklearn.model_selection import train_test_split\n",
        "from sklearn.preprocessing import StandardScaler\n",
        "from sklearn.metrics import classification_report, confusion_matrix"
      ],
      "metadata": {
        "id": "rJhF7R8gxY82"
      },
      "execution_count": null,
      "outputs": []
    },
    {
      "cell_type": "code",
      "source": [
        "X_train = xTrain.reshape((xTrain.shape[0], 1, xTrain.shape[1]))\n",
        "X_test = xTest.reshape((xTest.shape[0], 1, xTest.shape[1]))"
      ],
      "metadata": {
        "id": "X8rr5JNpzFFI"
      },
      "execution_count": null,
      "outputs": []
    },
    {
      "cell_type": "code",
      "source": [
        "model = Sequential([\n",
        "    LSTM(32, input_shape=(X_train.shape[1], X_train.shape[2]), return_sequences=True),\n",
        "    Dropout(0.2),\n",
        "    LSTM(16),\n",
        "    Dropout(0.2),\n",
        "    Dense(1, activation='sigmoid')\n",
        "])\n",
        "\n",
        "model.compile(optimizer='adam', loss='binary_crossentropy', metrics=['accuracy'])"
      ],
      "metadata": {
        "id": "gBJtcc2LqQqC"
      },
      "execution_count": null,
      "outputs": []
    },
    {
      "cell_type": "code",
      "source": [
        "history = model.fit(X_train, yTrain, epochs=20, batch_size=32, validation_data=(X_test, yTest))"
      ],
      "metadata": {
        "colab": {
          "base_uri": "https://localhost:8080/"
        },
        "id": "ccoXTnNDzbZW",
        "outputId": "e858789d-5c3f-4799-dd59-864878a5fc2d"
      },
      "execution_count": null,
      "outputs": [
        {
          "output_type": "stream",
          "name": "stdout",
          "text": [
            "Epoch 1/20\n",
            "5992/5992 [==============================] - 33s 5ms/step - loss: 0.0254 - accuracy: 0.9980 - val_loss: 0.0109 - val_accuracy: 0.9986\n",
            "Epoch 2/20\n",
            "5992/5992 [==============================] - 30s 5ms/step - loss: 0.0147 - accuracy: 0.9981 - val_loss: 0.0109 - val_accuracy: 0.9986\n",
            "Epoch 3/20\n",
            "5992/5992 [==============================] - 29s 5ms/step - loss: 0.0146 - accuracy: 0.9981 - val_loss: 0.0109 - val_accuracy: 0.9986\n",
            "Epoch 4/20\n",
            "5992/5992 [==============================] - 29s 5ms/step - loss: 0.0145 - accuracy: 0.9981 - val_loss: 0.0109 - val_accuracy: 0.9986\n",
            "Epoch 5/20\n",
            "5992/5992 [==============================] - 29s 5ms/step - loss: 0.0145 - accuracy: 0.9981 - val_loss: 0.0109 - val_accuracy: 0.9986\n",
            "Epoch 6/20\n",
            "5992/5992 [==============================] - 28s 5ms/step - loss: 0.0145 - accuracy: 0.9981 - val_loss: 0.0109 - val_accuracy: 0.9986\n",
            "Epoch 7/20\n",
            "5992/5992 [==============================] - 28s 5ms/step - loss: 0.0145 - accuracy: 0.9981 - val_loss: 0.0109 - val_accuracy: 0.9986\n",
            "Epoch 8/20\n",
            "5992/5992 [==============================] - 28s 5ms/step - loss: 0.0144 - accuracy: 0.9981 - val_loss: 0.0109 - val_accuracy: 0.9986\n",
            "Epoch 9/20\n",
            "5992/5992 [==============================] - 28s 5ms/step - loss: 0.0144 - accuracy: 0.9981 - val_loss: 0.0109 - val_accuracy: 0.9986\n",
            "Epoch 10/20\n",
            "5992/5992 [==============================] - 30s 5ms/step - loss: 0.0143 - accuracy: 0.9981 - val_loss: 0.0109 - val_accuracy: 0.9986\n",
            "Epoch 11/20\n",
            "5992/5992 [==============================] - 29s 5ms/step - loss: 0.0144 - accuracy: 0.9981 - val_loss: 0.0109 - val_accuracy: 0.9986\n",
            "Epoch 12/20\n",
            "5992/5992 [==============================] - 29s 5ms/step - loss: 0.0142 - accuracy: 0.9981 - val_loss: 0.0109 - val_accuracy: 0.9986\n",
            "Epoch 13/20\n",
            "5992/5992 [==============================] - 29s 5ms/step - loss: 0.0143 - accuracy: 0.9981 - val_loss: 0.0109 - val_accuracy: 0.9986\n",
            "Epoch 14/20\n",
            "5992/5992 [==============================] - 29s 5ms/step - loss: 0.0143 - accuracy: 0.9981 - val_loss: 0.0110 - val_accuracy: 0.9986\n",
            "Epoch 15/20\n",
            "5992/5992 [==============================] - 29s 5ms/step - loss: 0.0142 - accuracy: 0.9981 - val_loss: 0.0109 - val_accuracy: 0.9986\n",
            "Epoch 16/20\n",
            "5992/5992 [==============================] - 27s 5ms/step - loss: 0.0141 - accuracy: 0.9981 - val_loss: 0.0109 - val_accuracy: 0.9986\n",
            "Epoch 17/20\n",
            "5992/5992 [==============================] - 28s 5ms/step - loss: 0.0143 - accuracy: 0.9981 - val_loss: 0.0109 - val_accuracy: 0.9986\n",
            "Epoch 18/20\n",
            "5992/5992 [==============================] - 28s 5ms/step - loss: 0.0142 - accuracy: 0.9981 - val_loss: 0.0109 - val_accuracy: 0.9986\n",
            "Epoch 19/20\n",
            "5992/5992 [==============================] - 28s 5ms/step - loss: 0.0141 - accuracy: 0.9981 - val_loss: 0.0109 - val_accuracy: 0.9986\n",
            "Epoch 20/20\n",
            "5992/5992 [==============================] - 30s 5ms/step - loss: 0.0143 - accuracy: 0.9981 - val_loss: 0.0109 - val_accuracy: 0.9986\n"
          ]
        }
      ]
    },
    {
      "cell_type": "code",
      "source": [
        "# Evaluate the model.\n",
        "loss, accuracy = model.evaluate(X_test, yTest)\n",
        "print(f'Test Accuracy: {accuracy*100:.2f}%')\n",
        "\n",
        "# Predict the results on the test set.\n",
        "y_pred = (model.predict(X_test) > 0.5).astype(\"int32\")\n",
        "\n",
        "# Confusion matrix and classification report.\n",
        "print(confusion_matrix(yTest, y_pred))\n",
        "print(classification_report(yTest, y_pred))"
      ],
      "metadata": {
        "colab": {
          "base_uri": "https://localhost:8080/"
        },
        "id": "bCqH8s1QzcF5",
        "outputId": "0f41a511-0e55-4f44-a525-f743fc63dea3"
      },
      "execution_count": null,
      "outputs": [
        {
          "output_type": "stream",
          "name": "stdout",
          "text": [
            "1498/1498 [==============================] - 4s 2ms/step - loss: 0.0109 - accuracy: 0.9986\n",
            "Test Accuracy: 99.86%\n",
            "1498/1498 [==============================] - 4s 2ms/step\n",
            "[[47866     0]\n",
            " [   69     0]]\n",
            "              precision    recall  f1-score   support\n",
            "\n",
            "         0.0       1.00      1.00      1.00     47866\n",
            "         1.0       0.00      0.00      0.00        69\n",
            "\n",
            "    accuracy                           1.00     47935\n",
            "   macro avg       0.50      0.50      0.50     47935\n",
            "weighted avg       1.00      1.00      1.00     47935\n",
            "\n"
          ]
        },
        {
          "output_type": "stream",
          "name": "stderr",
          "text": [
            "/usr/local/lib/python3.10/dist-packages/sklearn/metrics/_classification.py:1344: UndefinedMetricWarning: Precision and F-score are ill-defined and being set to 0.0 in labels with no predicted samples. Use `zero_division` parameter to control this behavior.\n",
            "  _warn_prf(average, modifier, msg_start, len(result))\n",
            "/usr/local/lib/python3.10/dist-packages/sklearn/metrics/_classification.py:1344: UndefinedMetricWarning: Precision and F-score are ill-defined and being set to 0.0 in labels with no predicted samples. Use `zero_division` parameter to control this behavior.\n",
            "  _warn_prf(average, modifier, msg_start, len(result))\n",
            "/usr/local/lib/python3.10/dist-packages/sklearn/metrics/_classification.py:1344: UndefinedMetricWarning: Precision and F-score are ill-defined and being set to 0.0 in labels with no predicted samples. Use `zero_division` parameter to control this behavior.\n",
            "  _warn_prf(average, modifier, msg_start, len(result))\n"
          ]
        }
      ]
    },
    {
      "cell_type": "code",
      "source": [
        "import matplotlib.pyplot as plt\n",
        "\n",
        "plt.plot(history.history['accuracy'])\n",
        "plt.plot(history.history['val_accuracy'])\n",
        "plt.title('Model accuracy')\n",
        "plt.ylabel('Accuracy')\n",
        "plt.xlabel('Epoch')\n",
        "plt.legend(['Train', 'Test'], loc='upper left')\n",
        "plt.show()\n",
        "\n",
        "plt.plot(history.history['loss'])\n",
        "plt.plot(history.history['val_loss'])\n",
        "plt.title('Model loss')\n",
        "plt.ylabel('Loss')\n",
        "plt.xlabel('Epoch')\n",
        "plt.legend(['Train', 'Test'], loc='upper left')\n",
        "plt.show()\n"
      ],
      "metadata": {
        "colab": {
          "base_uri": "https://localhost:8080/",
          "height": 927
        },
        "id": "Xeh8reTtz3u-",
        "outputId": "c05e30c9-4c9f-4fed-9aba-d22f964e0885"
      },
      "execution_count": null,
      "outputs": [
        {
          "output_type": "display_data",
          "data": {
            "text/plain": [
              "<Figure size 640x480 with 1 Axes>"
            ],
            "image/png": "[encoded data removed]"
          },
          "metadata": {}
        },
        {
          "output_type": "display_data",
          "data": {
            "text/plain": [
              "<Figure size 640x480 with 1 Axes>"
            ],
            "image/png": "[encoded data removed]"
          },
          "metadata": {}
        }
      ]
    },
    {
      "cell_type": "code",
      "source": [],
      "metadata": {
        "id": "OLzhCG_P6p6N"
      },
      "execution_count": null,
      "outputs": []
    }
  ],
  "metadata": {
    "kernelspec": {
      "display_name": "Python 3",
      "language": "python",
      "name": "python3"
    },
    "language_info": {
      "codemirror_mode": {
        "name": "ipython",
        "version": 3
      },
      "file_extension": ".py",
      "mimetype": "text/x-python",
      "name": "python",
      "nbconvert_exporter": "python",
      "pygments_lexer": "ipython3",
      "version": "3.10.2"
    },
    "colab": {
      "provenance": []
    }
  },
  "nbformat": 4,
  "nbformat_minor": 0
}